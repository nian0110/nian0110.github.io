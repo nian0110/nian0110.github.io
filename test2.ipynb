{
 "cells": [
  {
   "cell_type": "code",
   "execution_count": 1,
   "metadata": {},
   "outputs": [],
   "source": [
    "import pandas as pd\n",
    "import os\n",
    "import shutil"
   ]
  },
  {
   "cell_type": "code",
   "execution_count": 2,
   "metadata": {},
   "outputs": [],
   "source": [
    "def find_jpg_files(root_folder, extension):\n",
    "    df = pd.DataFrame()\n",
    "\n",
    "    # Iterate through all subdirectories in root_folder\n",
    "    for foldername in os.listdir(root_folder):\n",
    "        folder_path = os.path.join(root_folder, foldername)\n",
    "        \n",
    "        # Check if it's a directory\n",
    "        if os.path.isdir(folder_path):\n",
    "            file_list = []\n",
    "            for dirpath, _, filenames in os.walk(folder_path):\n",
    "                for filename in filenames:\n",
    "                    if filename.lower().endswith(extension):\n",
    "                        full_path = os.path.join(dirpath, filename)\n",
    "                        file_list.append({\n",
    "                            'filename': filename, \n",
    "                            'full_path': full_path, \n",
    "                            'foldername': dirpath\n",
    "                        })\n",
    "            \n",
    "            # Create DataFrame for current folder\n",
    "            tmp_df = pd.DataFrame(file_list, columns=['filename', 'full_path', 'foldername'])\n",
    "            df = pd.concat([df, tmp_df], ignore_index=True)\n",
    "            \n",
    "            print(f'{foldername}: {tmp_df.shape}')\n",
    "\n",
    "    df['full_path'] = df['full_path'].apply(lambda x: x.replace('\\\\', '/'))\n",
    "    return df"
   ]
  },
  {
   "cell_type": "code",
   "execution_count": 3,
   "metadata": {},
   "outputs": [],
   "source": [
    "def data_to_csv(df, root_folder):\n",
    "    output_dir = './data/test'\n",
    "    folder = root_folder.split('/')[-1]\n",
    "    os.makedirs(output_dir, exist_ok=True)  # 確保輸出目錄存在\n",
    "\n",
    "    # for folder in df['foldername'].unique():\n",
    "    #     df_tmp = df[df['foldername'] == folder]\n",
    "    #     # 按檔名排序（忽略大小寫）\n",
    "    df_tmp = df.sort_values(['foldername', 'filename'], key=lambda x: x.str.lower()).reset_index(drop=True)\n",
    "\n",
    "    # 計算總批次數\n",
    "    batch_size = 200\n",
    "    num_batches = (len(df_tmp) + batch_size - 1) // batch_size\n",
    "\n",
    "    for batch_idx in range(num_batches):\n",
    "        start = batch_idx * batch_size\n",
    "        end = start + batch_size\n",
    "        batch_df = df_tmp.iloc[start:end]\n",
    "        \n",
    "        # 檔名格式：folder_1.csv、folder_2.csv...\n",
    "        output_file = os.path.join(output_dir, f'{folder}_{batch_idx + 1}.csv')\n",
    "        batch_df.to_csv(output_file, index=False)\n",
    "        print(f'{output_file}:{batch_df.shape[0]}')"
   ]
  },
  {
   "cell_type": "code",
   "execution_count": 4,
   "metadata": {},
   "outputs": [
    {
     "name": "stdout",
     "output_type": "stream",
     "text": [
      "其他: (1, 3)\n",
      "LingOrm: (5, 3)\n",
      "雜誌: (13, 3)\n",
      "活動: (225, 3)\n",
      "拍攝: (1, 3)\n",
      "ormstagram: (4, 3)\n",
      "---df shape：(249, 3)\n",
      "./data/test/photo_activity_1130-1_1.csv:200\n",
      "./data/test/photo_activity_1130-1_2.csv:49\n"
     ]
    }
   ],
   "source": [
    "root_folder = './images/check/photo_activity_1130-1'\n",
    "df = find_jpg_files(root_folder, '.jpg')\n",
    "print(f'---df shape：{df.shape}')\n",
    "data_to_csv(df, root_folder)"
   ]
  },
  {
   "cell_type": "code",
   "execution_count": 5,
   "metadata": {},
   "outputs": [
    {
     "name": "stdout",
     "output_type": "stream",
     "text": [
      "其他: (0, 3)\n",
      "LingOrm: (2, 3)\n",
      "雜誌: (23, 3)\n",
      "活動: (76, 3)\n",
      "拍攝: (1, 3)\n",
      "ormstagram: (2, 3)\n",
      "桌布: (1, 3)\n",
      "---df shape：(105, 3)\n",
      "./data/test/photo_activity_1201-1_1.csv:105\n"
     ]
    }
   ],
   "source": [
    "root_folder = './images/check/photo_activity_1201-1'\n",
    "df = find_jpg_files(root_folder, '.jpg')\n",
    "print(f'---df shape：{df.shape}')\n",
    "data_to_csv(df, root_folder)"
   ]
  },
  {
   "cell_type": "code",
   "execution_count": null,
   "metadata": {},
   "outputs": [],
   "source": []
  }
 ],
 "metadata": {
  "kernelspec": {
   "display_name": "Python 3",
   "language": "python",
   "name": "python3"
  },
  "language_info": {
   "codemirror_mode": {
    "name": "ipython",
    "version": 3
   },
   "file_extension": ".py",
   "mimetype": "text/x-python",
   "name": "python",
   "nbconvert_exporter": "python",
   "pygments_lexer": "ipython3",
   "version": "3.9.10"
  },
  "orig_nbformat": 4
 },
 "nbformat": 4,
 "nbformat_minor": 2
}
