{
 "cells": [
  {
   "cell_type": "markdown",
   "metadata": {
    "id": "Q6Pg1LK15KGF"
   },
   "source": [
    "## 說明\n",
    "如果有user修改username就跑這個code\n",
    "1. google drive(LingOrm圖片)把舊的檔案名稱renmae成新的\n",
    "2. google drive(notion_post)把舊的檔案名稱renmae成新的"
   ]
  },
  {
   "cell_type": "code",
   "execution_count": 1,
   "metadata": {
    "id": "yN6lNA8h5I3G"
   },
   "outputs": [],
   "source": [
    "import os\n",
    "import shutil"
   ]
  },
  {
   "cell_type": "code",
   "execution_count": 2,
   "metadata": {
    "id": "F-j9eKKj5I3I"
   },
   "outputs": [],
   "source": [
    "def rename_file(root_dir, old_user, new_user, test):\n",
    "    n=0\n",
    "    # 遍歷根目錄下所有文件\n",
    "    for dirpath, dirnames, filenames in os.walk(root_dir):\n",
    "        for filename in filenames:\n",
    "            if old_user in filename:\n",
    "                # 構建舊路徑和新路徑\n",
    "                old_path = os.path.join(dirpath, filename)\n",
    "                new_filename = filename.replace(old_user, new_user)\n",
    "                new_path = os.path.join(dirpath, new_filename)\n",
    "\n",
    "                # 重命名文件\n",
    "                if test==False:\n",
    "                    os.rename(old_path, new_path)\n",
    "                n+=1\n",
    "    return n"
   ]
  },
  {
   "cell_type": "code",
   "execution_count": 3,
   "metadata": {
    "id": "HTTkbBOPvTT7"
   },
   "outputs": [],
   "source": [
    "def rename_all(dir_list, old_user, new_user, test):\n",
    "    for dir in dir_list:\n",
    "        print(f'start: {dir}')\n",
    "        cnt = rename_file(dir, old_user, new_user, test)\n",
    "        if test==True:\n",
    "            print(f'end  finished---test: {cnt}')\n",
    "        else:\n",
    "            print(f'end  finished: {cnt}')"
   ]
  },
  {
   "cell_type": "code",
   "execution_count": 4,
   "metadata": {},
   "outputs": [],
   "source": [
    "dir_list = [\n",
    "    \"./images\",\n",
    "]"
   ]
  },
  {
   "cell_type": "code",
   "execution_count": null,
   "metadata": {},
   "outputs": [],
   "source": [
    "aa60423, JustFor_LingOrm\n",
    "Guoguo1996526, GuoGuo_Lo\n",
    "tancho1985, tancho___"
   ]
  },
  {
   "cell_type": "code",
   "execution_count": 15,
   "metadata": {},
   "outputs": [],
   "source": [
    "old_account = 'aa60423'\n",
    "new_account = 'JustFor_LingOrm'"
   ]
  },
  {
   "cell_type": "code",
   "execution_count": 16,
   "metadata": {
    "id": "lH5O_b24veD-"
   },
   "outputs": [
    {
     "name": "stdout",
     "output_type": "stream",
     "text": [
      "start: ./images\n",
      "end  finished---test: 0\n"
     ]
    }
   ],
   "source": [
    "rename_all(dir_list, old_account, new_account, test=True)"
   ]
  },
  {
   "cell_type": "code",
   "execution_count": 17,
   "metadata": {},
   "outputs": [
    {
     "name": "stdout",
     "output_type": "stream",
     "text": [
      "start: ./images\n",
      "end  finished: 0\n"
     ]
    }
   ],
   "source": [
    "rename_all(dir_list, old_account, new_account, test=False)"
   ]
  },
  {
   "cell_type": "code",
   "execution_count": 18,
   "metadata": {
    "id": "zM4QLOXfvTT8"
   },
   "outputs": [
    {
     "name": "stdout",
     "output_type": "stream",
     "text": [
      "start: ./images\n",
      "end  finished---test: 0\n"
     ]
    }
   ],
   "source": [
    "rename_all(dir_list, old_account, new_account, test=True)"
   ]
  }
 ],
 "metadata": {
  "colab": {
   "provenance": []
  },
  "kernelspec": {
   "display_name": "base",
   "language": "python",
   "name": "python3"
  },
  "language_info": {
   "codemirror_mode": {
    "name": "ipython",
    "version": 3
   },
   "file_extension": ".py",
   "mimetype": "text/x-python",
   "name": "python",
   "nbconvert_exporter": "python",
   "pygments_lexer": "ipython3",
   "version": "3.11.5"
  }
 },
 "nbformat": 4,
 "nbformat_minor": 0
}
