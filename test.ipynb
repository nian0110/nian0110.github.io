{
 "cells": [
  {
   "cell_type": "code",
   "execution_count": 57,
   "metadata": {},
   "outputs": [],
   "source": [
    "import pandas as pd\n",
    "import os\n",
    "import shutil"
   ]
  },
  {
   "cell_type": "code",
   "execution_count": 58,
   "metadata": {},
   "outputs": [],
   "source": [
    "def list_all_folders(directory):\n",
    "    try:\n",
    "        # 使用 os.listdir 遍歷目錄\n",
    "        folders = [name.replace('\\\\', '/') for name in os.listdir(directory) if os.path.isdir(os.path.join(directory, name))]\n",
    "        return folders\n",
    "    except Exception as e:\n",
    "        print(f\"發生錯誤：{e}\")\n",
    "        return []"
   ]
  },
  {
   "cell_type": "code",
   "execution_count": 59,
   "metadata": {},
   "outputs": [],
   "source": [
    "def find_jpg_files(root_folder, foldername, extension):\n",
    "    df = pd.DataFrame()\n",
    "\n",
    "    # 遍历目录\n",
    "    folder = os.path.join(root_folder, foldername).replace('\\\\', '/')\n",
    "    file_list = []\n",
    "    for dirpath, _, filenames in os.walk(folder):\n",
    "        for filename in filenames:\n",
    "            if filename.lower().endswith(extension):\n",
    "                full_path = os.path.join(dirpath, filename)\n",
    "                file_list.append({'filename': filename, 'full_path': full_path, 'foldername':foldername})\n",
    "    tmp_df = pd.DataFrame(file_list, columns=['filename', 'full_path', 'foldername'])\n",
    "    df = pd.concat([df, tmp_df])\n",
    "    print('')\n",
    "    print(f'{foldername}: {tmp_df.shape}')\n",
    "\n",
    "    df['full_path'] = df['full_path'].apply(lambda x: x.replace('\\\\', '/'))\n",
    "    return df"
   ]
  },
  {
   "cell_type": "code",
   "execution_count": 60,
   "metadata": {},
   "outputs": [],
   "source": [
    "def delete_file(files, path):\n",
    "    file_list = files.strip().splitlines()\n",
    "    success_count = 0\n",
    "    failure_count = 0\n",
    "    failed_files = []\n",
    "\n",
    "    # 搜尋目錄中所有的檔案\n",
    "    file_paths = []\n",
    "    for root, _, filenames in os.walk(path):\n",
    "        for filename in filenames:\n",
    "            if filename in file_list:\n",
    "                file_paths.append(os.path.join(root, filename))\n",
    "\n",
    "    # 刪除檔案\n",
    "    for full_path in file_paths:\n",
    "        try:\n",
    "            os.remove(full_path)\n",
    "            success_count += 1\n",
    "        except Exception as e:\n",
    "            failure_count += 1\n",
    "            failed_files.append((full_path, str(e)))\n",
    "\n",
    "    print(f\"成功刪除 {success_count} 個檔案\")\n",
    "    print(f\"刪除失敗 {failure_count} 個檔案\")\n",
    "    if failed_files:\n",
    "        print(\"失敗檔案列表：\")\n",
    "        for failed_file, error in failed_files:\n",
    "            print(f\"- {failed_file}: {error}\")"
   ]
  },
  {
   "cell_type": "code",
   "execution_count": 61,
   "metadata": {},
   "outputs": [],
   "source": [
    "def data_to_csv(df):\n",
    "    output_dir = './data/test'\n",
    "    os.makedirs(output_dir, exist_ok=True)  # 確保輸出目錄存在\n",
    "\n",
    "    for folder in df['foldername'].unique():\n",
    "        df_tmp = df[df['foldername'] == folder]\n",
    "        # 按檔名排序（忽略大小寫）\n",
    "        df_tmp = df_tmp.sort_values('filename', key=lambda x: x.str.lower()).reset_index(drop=True)\n",
    "\n",
    "        # 計算總批次數\n",
    "        batch_size = 200\n",
    "        num_batches = (len(df_tmp) + batch_size - 1) // batch_size\n",
    "\n",
    "        for batch_idx in range(num_batches):\n",
    "            start = batch_idx * batch_size\n",
    "            end = start + batch_size\n",
    "            batch_df = df_tmp.iloc[start:end]\n",
    "            \n",
    "            # 檔名格式：folder_1.csv、folder_2.csv...\n",
    "            output_file = os.path.join(output_dir, f'{folder}_{batch_idx + 1}.csv')\n",
    "            batch_df.to_csv(output_file, index=False)\n",
    "            print(f'{output_file}:{batch_df.shape[0]}')"
   ]
  },
  {
   "cell_type": "code",
   "execution_count": 62,
   "metadata": {},
   "outputs": [],
   "source": [
    "def delete_files_except(csv_path, images_folder, extension):\n",
    "    try:\n",
    "        # 讀取 CSV 文件，假設沒有標題列\n",
    "        files_to_keep = pd.read_csv(csv_path, header=None)[0].tolist()\n",
    "        \n",
    "        # 計數器\n",
    "        deleted_count = 0\n",
    "        kept_count = 0\n",
    "        print(len(files_to_keep))\n",
    "        \n",
    "        # 遍歷資料夾中的所有檔案\n",
    "        for filename in os.listdir(images_folder):\n",
    "            if filename.endswith(extension):  # 只處理 .webp 檔案\n",
    "                file_path = os.path.join(images_folder, filename)\n",
    "                # print(file_path)\n",
    "                \n",
    "                if filename in files_to_keep:\n",
    "                    kept_count += 1\n",
    "                    # print(f\"保留: {filename}\")\n",
    "                else:\n",
    "                    try:\n",
    "                        os.remove(file_path)\n",
    "                        deleted_count += 1\n",
    "                        # print(f\"刪除: {filename}\")\n",
    "                    except Exception as e:\n",
    "                        print(f\"刪除 {filename} 時發生錯誤: {str(e)}\")\n",
    "        \n",
    "        print(f\"\\n處理完成！\")\n",
    "        print(f\"保留的圖片數量: {kept_count}\")\n",
    "        print(f\"刪除的圖片數量: {deleted_count}\")\n",
    "        \n",
    "    except Exception as e:\n",
    "        print(f\"發生錯誤: {str(e)}\")"
   ]
  },
  {
   "attachments": {},
   "cell_type": "markdown",
   "metadata": {},
   "source": [
    "---"
   ]
  },
  {
   "cell_type": "code",
   "execution_count": 173,
   "metadata": {},
   "outputs": [
    {
     "data": {
      "text/plain": [
       "['TTaeny09']"
      ]
     },
     "execution_count": 173,
     "metadata": {},
     "output_type": "execute_result"
    }
   ],
   "source": [
    "root_folder = './images/check'\n",
    "foldernames = list_all_folders(root_folder)\n",
    "foldernames"
   ]
  },
  {
   "cell_type": "code",
   "execution_count": 174,
   "metadata": {},
   "outputs": [
    {
     "name": "stdout",
     "output_type": "stream",
     "text": [
      "\n",
      "TTaeny09: (62, 3)\n",
      "./data/test\\TTaeny09_1.csv:62\n"
     ]
    }
   ],
   "source": [
    "# foldernames = ['check']\n",
    "for foldername in foldernames:\n",
    "    df = find_jpg_files(root_folder, foldername, '.webp')\n",
    "    data_to_csv(df)"
   ]
  },
  {
   "attachments": {},
   "cell_type": "markdown",
   "metadata": {},
   "source": [
    "### 刪除photo"
   ]
  },
  {
   "cell_type": "code",
   "execution_count": 175,
   "metadata": {},
   "outputs": [],
   "source": [
    "path = './images/check'\n",
    "files = '''\n",
    "TTaeny09_1788851537751744880_2024-05-10 08-40_1.webp\n",
    "TTaeny09_1812762867999117637_2024-07-15 08-15_1.webp\n",
    "TTaeny09_1812856511850529183_2024-07-15 14-27_2.webp\n",
    "TTaeny09_1815279483534073863_2024-07-22 06-55_1.webp\n",
    "TTaeny09_1822237419967512907_2024-08-10 11-43_1.webp\n",
    "TTaeny09_1822514043053109717_2024-08-11 06-03_2.webp\n",
    "'''"
   ]
  },
  {
   "cell_type": "code",
   "execution_count": 176,
   "metadata": {},
   "outputs": [
    {
     "name": "stdout",
     "output_type": "stream",
     "text": [
      "成功刪除 6 個檔案\n",
      "刪除失敗 0 個檔案\n"
     ]
    }
   ],
   "source": [
    "delete_file(files, path)"
   ]
  },
  {
   "cell_type": "markdown",
   "metadata": {},
   "source": [
    "### 保留photo"
   ]
  },
  {
   "cell_type": "code",
   "execution_count": 172,
   "metadata": {},
   "outputs": [
    {
     "name": "stdout",
     "output_type": "stream",
     "text": [
      "62\n",
      "\n",
      "處理完成！\n",
      "保留的圖片數量: 62\n",
      "刪除的圖片數量: 368\n"
     ]
    }
   ],
   "source": [
    "delete_files_except('files_to_preserve.csv', './images/check/TTaeny09', '.webp')"
   ]
  },
  {
   "cell_type": "markdown",
   "metadata": {},
   "source": [
    "---"
   ]
  },
  {
   "cell_type": "code",
   "execution_count": 207,
   "metadata": {},
   "outputs": [],
   "source": [
    "def df_process(df, new_path):\n",
    "    df['filename'] = df['filename'].apply(lambda x:x.replace('.jpg', '.webp'))\n",
    "    df['full_path'] = df['full_path'].apply(lambda x:x.replace('.jpg', '.webp'))\n",
    "    df = df[df['root_path']=='活動']\n",
    "    df = df[['filename', 'full_path']]\n",
    "    df = df.rename(columns={\"full_path\": \"new_path\"})\n",
    "    df['new_path'] = df['new_path'].apply(lambda x:x.replace('/Users/linnianyi/Library/CloudStorage/GoogleDrive-qaz51465146@gmail.com/我的雲端硬碟/LingOrm圖片/活動/', new_path))\n",
    "    return df  "
   ]
  },
  {
   "cell_type": "code",
   "execution_count": 208,
   "metadata": {},
   "outputs": [],
   "source": [
    "new_path = './image/活動/'\n",
    "df_photo_data = pd.read_excel('photo_data.xlsx')\n",
    "df_photo_data = df_process(df_photo_data, new_path)"
   ]
  },
  {
   "cell_type": "code",
   "execution_count": 209,
   "metadata": {},
   "outputs": [
    {
     "data": {
      "text/plain": [
       "(38048, 2)"
      ]
     },
     "execution_count": 209,
     "metadata": {},
     "output_type": "execute_result"
    }
   ],
   "source": [
    "df_photo_data.shape"
   ]
  },
  {
   "cell_type": "code",
   "execution_count": 210,
   "metadata": {},
   "outputs": [
    {
     "data": {
      "text/html": [
       "<div>\n",
       "<style scoped>\n",
       "    .dataframe tbody tr th:only-of-type {\n",
       "        vertical-align: middle;\n",
       "    }\n",
       "\n",
       "    .dataframe tbody tr th {\n",
       "        vertical-align: top;\n",
       "    }\n",
       "\n",
       "    .dataframe thead th {\n",
       "        text-align: right;\n",
       "    }\n",
       "</style>\n",
       "<table border=\"1\" class=\"dataframe\">\n",
       "  <thead>\n",
       "    <tr style=\"text-align: right;\">\n",
       "      <th></th>\n",
       "      <th>filename</th>\n",
       "      <th>new_path</th>\n",
       "    </tr>\n",
       "  </thead>\n",
       "  <tbody>\n",
       "    <tr>\n",
       "      <th>3591</th>\n",
       "      <td>muimui_za_1831621706043289845_2024-09-05 09-13...</td>\n",
       "      <td>./image/活動/202311/20231101_試鏡/muimui_za_183162...</td>\n",
       "    </tr>\n",
       "    <tr>\n",
       "      <th>3592</th>\n",
       "      <td>muimui_za_1831621706043289845_2024-09-05 09-13...</td>\n",
       "      <td>./image/活動/202311/20231101_試鏡/muimui_za_183162...</td>\n",
       "    </tr>\n",
       "    <tr>\n",
       "      <th>3593</th>\n",
       "      <td>muimui_za_1831621706043289845_2024-09-05 09-13...</td>\n",
       "      <td>./image/活動/202311/20231101_試鏡/muimui_za_183162...</td>\n",
       "    </tr>\n",
       "    <tr>\n",
       "      <th>3594</th>\n",
       "      <td>muimui_za_1831621706043289845_2024-09-05 09-13...</td>\n",
       "      <td>./image/活動/202311/20231101_試鏡/muimui_za_183162...</td>\n",
       "    </tr>\n",
       "    <tr>\n",
       "      <th>3595</th>\n",
       "      <td>muimui_za_1831900664223674858_2024-09-06 03-42...</td>\n",
       "      <td>./image/活動/202311/20231101_試鏡/muimui_za_183190...</td>\n",
       "    </tr>\n",
       "  </tbody>\n",
       "</table>\n",
       "</div>"
      ],
      "text/plain": [
       "                                               filename  \\\n",
       "3591  muimui_za_1831621706043289845_2024-09-05 09-13...   \n",
       "3592  muimui_za_1831621706043289845_2024-09-05 09-13...   \n",
       "3593  muimui_za_1831621706043289845_2024-09-05 09-13...   \n",
       "3594  muimui_za_1831621706043289845_2024-09-05 09-13...   \n",
       "3595  muimui_za_1831900664223674858_2024-09-06 03-42...   \n",
       "\n",
       "                                               new_path  \n",
       "3591  ./image/活動/202311/20231101_試鏡/muimui_za_183162...  \n",
       "3592  ./image/活動/202311/20231101_試鏡/muimui_za_183162...  \n",
       "3593  ./image/活動/202311/20231101_試鏡/muimui_za_183162...  \n",
       "3594  ./image/活動/202311/20231101_試鏡/muimui_za_183162...  \n",
       "3595  ./image/活動/202311/20231101_試鏡/muimui_za_183190...  "
      ]
     },
     "execution_count": 210,
     "metadata": {},
     "output_type": "execute_result"
    }
   ],
   "source": [
    "df_photo_data.head()"
   ]
  },
  {
   "cell_type": "code",
   "execution_count": 189,
   "metadata": {},
   "outputs": [
    {
     "name": "stdout",
     "output_type": "stream",
     "text": [
      "\n",
      "apollowny: (90, 3)\n",
      "\n",
      "Cherished_M0511: (260, 3)\n",
      "\n",
      "cherry0525_: (137, 3)\n",
      "\n",
      "Convallaria_LO: (259, 3)\n",
      "\n",
      "GasChill: (752, 3)\n",
      "\n",
      "Honeylattexx: (26, 3)\n",
      "\n",
      "ikkkkkkkG: (174, 3)\n",
      "\n",
      "JungsJinns: (855, 3)\n",
      "\n",
      "Koiiz9: (515, 3)\n",
      "\n",
      "LilyRose_38: (97, 3)\n",
      "\n",
      "LOgallery38: (9, 3)\n",
      "\n",
      "luv168cm: (85, 3)\n",
      "\n",
      "mollie8119: (71, 3)\n",
      "\n",
      "MONSOON_LLO: (39, 3)\n",
      "\n",
      "ooks51127: (37, 3)\n",
      "\n",
      "RoyalHaven1127: (232, 3)\n",
      "\n",
      "TTaeny09: (56, 3)\n",
      "\n",
      "TYTFSGIR4EVA: (104, 3)\n"
     ]
    }
   ],
   "source": [
    "df_all = pd.DataFrame()\n",
    "root_folder = './images/活動/user'\n",
    "foldernames = list_all_folders(root_folder)\n",
    "for foldername in foldernames:\n",
    "    df2 = find_jpg_files(root_folder, foldername, '.webp')\n",
    "    df_all = pd.concat([df_all, df2])"
   ]
  },
  {
   "cell_type": "code",
   "execution_count": 211,
   "metadata": {},
   "outputs": [
    {
     "data": {
      "text/plain": [
       "(3798, 3)"
      ]
     },
     "execution_count": 211,
     "metadata": {},
     "output_type": "execute_result"
    }
   ],
   "source": [
    "df_all.shape"
   ]
  },
  {
   "cell_type": "code",
   "execution_count": 212,
   "metadata": {},
   "outputs": [
    {
     "data": {
      "text/html": [
       "<div>\n",
       "<style scoped>\n",
       "    .dataframe tbody tr th:only-of-type {\n",
       "        vertical-align: middle;\n",
       "    }\n",
       "\n",
       "    .dataframe tbody tr th {\n",
       "        vertical-align: top;\n",
       "    }\n",
       "\n",
       "    .dataframe thead th {\n",
       "        text-align: right;\n",
       "    }\n",
       "</style>\n",
       "<table border=\"1\" class=\"dataframe\">\n",
       "  <thead>\n",
       "    <tr style=\"text-align: right;\">\n",
       "      <th></th>\n",
       "      <th>filename</th>\n",
       "      <th>full_path</th>\n",
       "      <th>foldername</th>\n",
       "    </tr>\n",
       "  </thead>\n",
       "  <tbody>\n",
       "    <tr>\n",
       "      <th>0</th>\n",
       "      <td>apollowny_1853495118952820966_2024-11-04 17-50...</td>\n",
       "      <td>./images/活動/user/apollowny/apollowny_185349511...</td>\n",
       "      <td>apollowny</td>\n",
       "    </tr>\n",
       "    <tr>\n",
       "      <th>1</th>\n",
       "      <td>apollowny_1853495118952820966_2024-11-04 17-50...</td>\n",
       "      <td>./images/活動/user/apollowny/apollowny_185349511...</td>\n",
       "      <td>apollowny</td>\n",
       "    </tr>\n",
       "  </tbody>\n",
       "</table>\n",
       "</div>"
      ],
      "text/plain": [
       "                                            filename  \\\n",
       "0  apollowny_1853495118952820966_2024-11-04 17-50...   \n",
       "1  apollowny_1853495118952820966_2024-11-04 17-50...   \n",
       "\n",
       "                                           full_path foldername  \n",
       "0  ./images/活動/user/apollowny/apollowny_185349511...  apollowny  \n",
       "1  ./images/活動/user/apollowny/apollowny_185349511...  apollowny  "
      ]
     },
     "execution_count": 212,
     "metadata": {},
     "output_type": "execute_result"
    }
   ],
   "source": [
    "df_all.head(2)"
   ]
  },
  {
   "cell_type": "code",
   "execution_count": 213,
   "metadata": {},
   "outputs": [],
   "source": [
    "df_all = df_all.merge(df_photo_data, on='filename', how='left')"
   ]
  },
  {
   "cell_type": "code",
   "execution_count": 224,
   "metadata": {},
   "outputs": [
    {
     "data": {
      "text/plain": [
       "(3798, 4)"
      ]
     },
     "execution_count": 224,
     "metadata": {},
     "output_type": "execute_result"
    }
   ],
   "source": [
    "df_all.shape"
   ]
  },
  {
   "cell_type": "code",
   "execution_count": 219,
   "metadata": {},
   "outputs": [
    {
     "data": {
      "text/html": [
       "<div>\n",
       "<style scoped>\n",
       "    .dataframe tbody tr th:only-of-type {\n",
       "        vertical-align: middle;\n",
       "    }\n",
       "\n",
       "    .dataframe tbody tr th {\n",
       "        vertical-align: top;\n",
       "    }\n",
       "\n",
       "    .dataframe thead th {\n",
       "        text-align: right;\n",
       "    }\n",
       "</style>\n",
       "<table border=\"1\" class=\"dataframe\">\n",
       "  <thead>\n",
       "    <tr style=\"text-align: right;\">\n",
       "      <th></th>\n",
       "      <th>filename</th>\n",
       "      <th>full_path</th>\n",
       "      <th>foldername</th>\n",
       "      <th>new_path</th>\n",
       "    </tr>\n",
       "  </thead>\n",
       "  <tbody>\n",
       "    <tr>\n",
       "      <th>117</th>\n",
       "      <td>Cherished_M0511_1837726603583148054_2024-09-22...</td>\n",
       "      <td>./images/活動/user/Cherished_M0511/Cherished_M05...</td>\n",
       "      <td>Cherished_M0511</td>\n",
       "      <td>./image/活動/202409/20240913_DestinyClinicOrm/20...</td>\n",
       "    </tr>\n",
       "    <tr>\n",
       "      <th>118</th>\n",
       "      <td>Cherished_M0511_1837726603583148054_2024-09-22...</td>\n",
       "      <td>./images/活動/user/Cherished_M0511/Cherished_M05...</td>\n",
       "      <td>Cherished_M0511</td>\n",
       "      <td>./image/活動/202409/20240921_LingOrm1stMeetMacau...</td>\n",
       "    </tr>\n",
       "  </tbody>\n",
       "</table>\n",
       "</div>"
      ],
      "text/plain": [
       "                                              filename  \\\n",
       "117  Cherished_M0511_1837726603583148054_2024-09-22...   \n",
       "118  Cherished_M0511_1837726603583148054_2024-09-22...   \n",
       "\n",
       "                                             full_path       foldername  \\\n",
       "117  ./images/活動/user/Cherished_M0511/Cherished_M05...  Cherished_M0511   \n",
       "118  ./images/活動/user/Cherished_M0511/Cherished_M05...  Cherished_M0511   \n",
       "\n",
       "                                              new_path  \n",
       "117  ./image/活動/202409/20240913_DestinyClinicOrm/20...  \n",
       "118  ./image/活動/202409/20240921_LingOrm1stMeetMacau...  "
      ]
     },
     "execution_count": 219,
     "metadata": {},
     "output_type": "execute_result"
    }
   ],
   "source": [
    "df_all[df_all['filename']=='Cherished_M0511_1837726603583148054_2024-09-22 05-32_2.webp']"
   ]
  },
  {
   "cell_type": "code",
   "execution_count": 220,
   "metadata": {},
   "outputs": [
    {
     "data": {
      "text/html": [
       "<div>\n",
       "<style scoped>\n",
       "    .dataframe tbody tr th:only-of-type {\n",
       "        vertical-align: middle;\n",
       "    }\n",
       "\n",
       "    .dataframe tbody tr th {\n",
       "        vertical-align: top;\n",
       "    }\n",
       "\n",
       "    .dataframe thead th {\n",
       "        text-align: right;\n",
       "    }\n",
       "</style>\n",
       "<table border=\"1\" class=\"dataframe\">\n",
       "  <thead>\n",
       "    <tr style=\"text-align: right;\">\n",
       "      <th></th>\n",
       "      <th>filename</th>\n",
       "      <th>full_path</th>\n",
       "      <th>foldername</th>\n",
       "      <th>new_path</th>\n",
       "    </tr>\n",
       "  </thead>\n",
       "  <tbody>\n",
       "    <tr>\n",
       "      <th>2202</th>\n",
       "      <td>JungsJinns_1837456770014576857_2024-09-21 11-4...</td>\n",
       "      <td>./images/活動/user/JungsJinns/JungsJinns_1837456...</td>\n",
       "      <td>JungsJinns</td>\n",
       "      <td>./image/活動/202409/20240913_DestinyClinicOrm/20...</td>\n",
       "    </tr>\n",
       "    <tr>\n",
       "      <th>2203</th>\n",
       "      <td>JungsJinns_1837456770014576857_2024-09-21 11-4...</td>\n",
       "      <td>./images/活動/user/JungsJinns/JungsJinns_1837456...</td>\n",
       "      <td>JungsJinns</td>\n",
       "      <td>./image/活動/202409/20240921_LingOrm1stMeetMacau...</td>\n",
       "    </tr>\n",
       "  </tbody>\n",
       "</table>\n",
       "</div>"
      ],
      "text/plain": [
       "                                               filename  \\\n",
       "2202  JungsJinns_1837456770014576857_2024-09-21 11-4...   \n",
       "2203  JungsJinns_1837456770014576857_2024-09-21 11-4...   \n",
       "\n",
       "                                              full_path  foldername  \\\n",
       "2202  ./images/活動/user/JungsJinns/JungsJinns_1837456...  JungsJinns   \n",
       "2203  ./images/活動/user/JungsJinns/JungsJinns_1837456...  JungsJinns   \n",
       "\n",
       "                                               new_path  \n",
       "2202  ./image/活動/202409/20240913_DestinyClinicOrm/20...  \n",
       "2203  ./image/活動/202409/20240921_LingOrm1stMeetMacau...  "
      ]
     },
     "execution_count": 220,
     "metadata": {},
     "output_type": "execute_result"
    }
   ],
   "source": [
    "df_all[df_all['filename']=='JungsJinns_1837456770014576857_2024-09-21 11-40_1.webp']"
   ]
  },
  {
   "cell_type": "code",
   "execution_count": 215,
   "metadata": {},
   "outputs": [
    {
     "data": {
      "text/html": [
       "<div>\n",
       "<style scoped>\n",
       "    .dataframe tbody tr th:only-of-type {\n",
       "        vertical-align: middle;\n",
       "    }\n",
       "\n",
       "    .dataframe tbody tr th {\n",
       "        vertical-align: top;\n",
       "    }\n",
       "\n",
       "    .dataframe thead th {\n",
       "        text-align: right;\n",
       "    }\n",
       "</style>\n",
       "<table border=\"1\" class=\"dataframe\">\n",
       "  <thead>\n",
       "    <tr style=\"text-align: right;\">\n",
       "      <th></th>\n",
       "      <th>filename</th>\n",
       "      <th>full_path</th>\n",
       "      <th>foldername</th>\n",
       "      <th>new_path</th>\n",
       "    </tr>\n",
       "  </thead>\n",
       "  <tbody>\n",
       "    <tr>\n",
       "      <th>0</th>\n",
       "      <td>apollowny_1853495118952820966_2024-11-04 17-50...</td>\n",
       "      <td>./images/活動/user/apollowny/apollowny_185349511...</td>\n",
       "      <td>apollowny</td>\n",
       "      <td>./image/活動/202411/20241102_Orm1stFMNanning/apo...</td>\n",
       "    </tr>\n",
       "    <tr>\n",
       "      <th>1</th>\n",
       "      <td>apollowny_1853495118952820966_2024-11-04 17-50...</td>\n",
       "      <td>./images/活動/user/apollowny/apollowny_185349511...</td>\n",
       "      <td>apollowny</td>\n",
       "      <td>./image/活動/202411/20241102_Orm1stFMNanning/apo...</td>\n",
       "    </tr>\n",
       "    <tr>\n",
       "      <th>2</th>\n",
       "      <td>apollowny_1853495118952820966_2024-11-04 17-50...</td>\n",
       "      <td>./images/活動/user/apollowny/apollowny_185349511...</td>\n",
       "      <td>apollowny</td>\n",
       "      <td>./image/活動/202411/20241102_Orm1stFMNanning/apo...</td>\n",
       "    </tr>\n",
       "    <tr>\n",
       "      <th>3</th>\n",
       "      <td>apollowny_1853495118952820966_2024-11-04 17-50...</td>\n",
       "      <td>./images/活動/user/apollowny/apollowny_185349511...</td>\n",
       "      <td>apollowny</td>\n",
       "      <td>./image/活動/202411/20241102_Orm1stFMNanning/apo...</td>\n",
       "    </tr>\n",
       "    <tr>\n",
       "      <th>4</th>\n",
       "      <td>apollowny_1853501578134835415_2024-11-04 18-16...</td>\n",
       "      <td>./images/活動/user/apollowny/apollowny_185350157...</td>\n",
       "      <td>apollowny</td>\n",
       "      <td>./image/活動/202411/20241102_LinglingNNGFirstMee...</td>\n",
       "    </tr>\n",
       "    <tr>\n",
       "      <th>5</th>\n",
       "      <td>apollowny_1853501578134835415_2024-11-04 18-16...</td>\n",
       "      <td>./images/活動/user/apollowny/apollowny_185350157...</td>\n",
       "      <td>apollowny</td>\n",
       "      <td>./image/活動/202411/20241102_LinglingNNGFirstMee...</td>\n",
       "    </tr>\n",
       "    <tr>\n",
       "      <th>6</th>\n",
       "      <td>apollowny_1853501578134835415_2024-11-04 18-16...</td>\n",
       "      <td>./images/活動/user/apollowny/apollowny_185350157...</td>\n",
       "      <td>apollowny</td>\n",
       "      <td>./image/活動/202411/20241102_LinglingNNGFirstMee...</td>\n",
       "    </tr>\n",
       "    <tr>\n",
       "      <th>7</th>\n",
       "      <td>apollowny_1853501578134835415_2024-11-04 18-16...</td>\n",
       "      <td>./images/活動/user/apollowny/apollowny_185350157...</td>\n",
       "      <td>apollowny</td>\n",
       "      <td>./image/活動/202411/20241102_LinglingNNGFirstMee...</td>\n",
       "    </tr>\n",
       "    <tr>\n",
       "      <th>8</th>\n",
       "      <td>apollowny_1853503709411733860_2024-11-04 18-24...</td>\n",
       "      <td>./images/活動/user/apollowny/apollowny_185350370...</td>\n",
       "      <td>apollowny</td>\n",
       "      <td>./image/活動/202411/20241102_LinglingNNGFirstMee...</td>\n",
       "    </tr>\n",
       "    <tr>\n",
       "      <th>9</th>\n",
       "      <td>apollowny_1853504186476060739_2024-11-04 18-26...</td>\n",
       "      <td>./images/活動/user/apollowny/apollowny_185350418...</td>\n",
       "      <td>apollowny</td>\n",
       "      <td>./image/活動/202411/20241102_Orm1stFMNanning/apo...</td>\n",
       "    </tr>\n",
       "    <tr>\n",
       "      <th>10</th>\n",
       "      <td>apollowny_1853504577418744272_2024-11-04 18-28...</td>\n",
       "      <td>./images/活動/user/apollowny/apollowny_185350457...</td>\n",
       "      <td>apollowny</td>\n",
       "      <td>./image/活動/202411/20241102_LinglingNNGFirstMee...</td>\n",
       "    </tr>\n",
       "    <tr>\n",
       "      <th>11</th>\n",
       "      <td>apollowny_1853721274201280965_2024-11-05 08-49...</td>\n",
       "      <td>./images/活動/user/apollowny/apollowny_185372127...</td>\n",
       "      <td>apollowny</td>\n",
       "      <td>./image/活動/202411/20241102_Orm1stFMNanning/apo...</td>\n",
       "    </tr>\n",
       "    <tr>\n",
       "      <th>12</th>\n",
       "      <td>apollowny_1853721274201280965_2024-11-05 08-49...</td>\n",
       "      <td>./images/活動/user/apollowny/apollowny_185372127...</td>\n",
       "      <td>apollowny</td>\n",
       "      <td>./image/活動/202411/20241102_Orm1stFMNanning/apo...</td>\n",
       "    </tr>\n",
       "    <tr>\n",
       "      <th>13</th>\n",
       "      <td>apollowny_1853721274201280965_2024-11-05 08-49...</td>\n",
       "      <td>./images/活動/user/apollowny/apollowny_185372127...</td>\n",
       "      <td>apollowny</td>\n",
       "      <td>./image/活動/202411/20241102_Orm1stFMNanning/apo...</td>\n",
       "    </tr>\n",
       "    <tr>\n",
       "      <th>14</th>\n",
       "      <td>apollowny_1853723378215256146_2024-11-05 08-57...</td>\n",
       "      <td>./images/活動/user/apollowny/apollowny_185372337...</td>\n",
       "      <td>apollowny</td>\n",
       "      <td>./image/活動/202411/20241102_LinglingNNGFirstMee...</td>\n",
       "    </tr>\n",
       "    <tr>\n",
       "      <th>15</th>\n",
       "      <td>apollowny_1853723378215256146_2024-11-05 08-57...</td>\n",
       "      <td>./images/活動/user/apollowny/apollowny_185372337...</td>\n",
       "      <td>apollowny</td>\n",
       "      <td>./image/活動/202411/20241102_LinglingNNGFirstMee...</td>\n",
       "    </tr>\n",
       "    <tr>\n",
       "      <th>16</th>\n",
       "      <td>apollowny_1853723378215256146_2024-11-05 08-57...</td>\n",
       "      <td>./images/活動/user/apollowny/apollowny_185372337...</td>\n",
       "      <td>apollowny</td>\n",
       "      <td>./image/活動/202411/20241102_LinglingNNGFirstMee...</td>\n",
       "    </tr>\n",
       "    <tr>\n",
       "      <th>17</th>\n",
       "      <td>apollowny_1853740905045656063_2024-11-05 10-07...</td>\n",
       "      <td>./images/活動/user/apollowny/apollowny_185374090...</td>\n",
       "      <td>apollowny</td>\n",
       "      <td>./image/活動/202411/20241102_Orm1stFMNanning/apo...</td>\n",
       "    </tr>\n",
       "    <tr>\n",
       "      <th>18</th>\n",
       "      <td>apollowny_1853740905045656063_2024-11-05 10-07...</td>\n",
       "      <td>./images/活動/user/apollowny/apollowny_185374090...</td>\n",
       "      <td>apollowny</td>\n",
       "      <td>./image/活動/202411/20241102_Orm1stFMNanning/apo...</td>\n",
       "    </tr>\n",
       "    <tr>\n",
       "      <th>19</th>\n",
       "      <td>apollowny_1853740905045656063_2024-11-05 10-07...</td>\n",
       "      <td>./images/活動/user/apollowny/apollowny_185374090...</td>\n",
       "      <td>apollowny</td>\n",
       "      <td>./image/活動/202411/20241102_Orm1stFMNanning/apo...</td>\n",
       "    </tr>\n",
       "  </tbody>\n",
       "</table>\n",
       "</div>"
      ],
      "text/plain": [
       "                                             filename  \\\n",
       "0   apollowny_1853495118952820966_2024-11-04 17-50...   \n",
       "1   apollowny_1853495118952820966_2024-11-04 17-50...   \n",
       "2   apollowny_1853495118952820966_2024-11-04 17-50...   \n",
       "3   apollowny_1853495118952820966_2024-11-04 17-50...   \n",
       "4   apollowny_1853501578134835415_2024-11-04 18-16...   \n",
       "5   apollowny_1853501578134835415_2024-11-04 18-16...   \n",
       "6   apollowny_1853501578134835415_2024-11-04 18-16...   \n",
       "7   apollowny_1853501578134835415_2024-11-04 18-16...   \n",
       "8   apollowny_1853503709411733860_2024-11-04 18-24...   \n",
       "9   apollowny_1853504186476060739_2024-11-04 18-26...   \n",
       "10  apollowny_1853504577418744272_2024-11-04 18-28...   \n",
       "11  apollowny_1853721274201280965_2024-11-05 08-49...   \n",
       "12  apollowny_1853721274201280965_2024-11-05 08-49...   \n",
       "13  apollowny_1853721274201280965_2024-11-05 08-49...   \n",
       "14  apollowny_1853723378215256146_2024-11-05 08-57...   \n",
       "15  apollowny_1853723378215256146_2024-11-05 08-57...   \n",
       "16  apollowny_1853723378215256146_2024-11-05 08-57...   \n",
       "17  apollowny_1853740905045656063_2024-11-05 10-07...   \n",
       "18  apollowny_1853740905045656063_2024-11-05 10-07...   \n",
       "19  apollowny_1853740905045656063_2024-11-05 10-07...   \n",
       "\n",
       "                                            full_path foldername  \\\n",
       "0   ./images/活動/user/apollowny/apollowny_185349511...  apollowny   \n",
       "1   ./images/活動/user/apollowny/apollowny_185349511...  apollowny   \n",
       "2   ./images/活動/user/apollowny/apollowny_185349511...  apollowny   \n",
       "3   ./images/活動/user/apollowny/apollowny_185349511...  apollowny   \n",
       "4   ./images/活動/user/apollowny/apollowny_185350157...  apollowny   \n",
       "5   ./images/活動/user/apollowny/apollowny_185350157...  apollowny   \n",
       "6   ./images/活動/user/apollowny/apollowny_185350157...  apollowny   \n",
       "7   ./images/活動/user/apollowny/apollowny_185350157...  apollowny   \n",
       "8   ./images/活動/user/apollowny/apollowny_185350370...  apollowny   \n",
       "9   ./images/活動/user/apollowny/apollowny_185350418...  apollowny   \n",
       "10  ./images/活動/user/apollowny/apollowny_185350457...  apollowny   \n",
       "11  ./images/活動/user/apollowny/apollowny_185372127...  apollowny   \n",
       "12  ./images/活動/user/apollowny/apollowny_185372127...  apollowny   \n",
       "13  ./images/活動/user/apollowny/apollowny_185372127...  apollowny   \n",
       "14  ./images/活動/user/apollowny/apollowny_185372337...  apollowny   \n",
       "15  ./images/活動/user/apollowny/apollowny_185372337...  apollowny   \n",
       "16  ./images/活動/user/apollowny/apollowny_185372337...  apollowny   \n",
       "17  ./images/活動/user/apollowny/apollowny_185374090...  apollowny   \n",
       "18  ./images/活動/user/apollowny/apollowny_185374090...  apollowny   \n",
       "19  ./images/活動/user/apollowny/apollowny_185374090...  apollowny   \n",
       "\n",
       "                                             new_path  \n",
       "0   ./image/活動/202411/20241102_Orm1stFMNanning/apo...  \n",
       "1   ./image/活動/202411/20241102_Orm1stFMNanning/apo...  \n",
       "2   ./image/活動/202411/20241102_Orm1stFMNanning/apo...  \n",
       "3   ./image/活動/202411/20241102_Orm1stFMNanning/apo...  \n",
       "4   ./image/活動/202411/20241102_LinglingNNGFirstMee...  \n",
       "5   ./image/活動/202411/20241102_LinglingNNGFirstMee...  \n",
       "6   ./image/活動/202411/20241102_LinglingNNGFirstMee...  \n",
       "7   ./image/活動/202411/20241102_LinglingNNGFirstMee...  \n",
       "8   ./image/活動/202411/20241102_LinglingNNGFirstMee...  \n",
       "9   ./image/活動/202411/20241102_Orm1stFMNanning/apo...  \n",
       "10  ./image/活動/202411/20241102_LinglingNNGFirstMee...  \n",
       "11  ./image/活動/202411/20241102_Orm1stFMNanning/apo...  \n",
       "12  ./image/活動/202411/20241102_Orm1stFMNanning/apo...  \n",
       "13  ./image/活動/202411/20241102_Orm1stFMNanning/apo...  \n",
       "14  ./image/活動/202411/20241102_LinglingNNGFirstMee...  \n",
       "15  ./image/活動/202411/20241102_LinglingNNGFirstMee...  \n",
       "16  ./image/活動/202411/20241102_LinglingNNGFirstMee...  \n",
       "17  ./image/活動/202411/20241102_Orm1stFMNanning/apo...  \n",
       "18  ./image/活動/202411/20241102_Orm1stFMNanning/apo...  \n",
       "19  ./image/活動/202411/20241102_Orm1stFMNanning/apo...  "
      ]
     },
     "execution_count": 215,
     "metadata": {},
     "output_type": "execute_result"
    }
   ],
   "source": [
    "df_all.head(20)"
   ]
  },
  {
   "cell_type": "code",
   "execution_count": null,
   "metadata": {},
   "outputs": [],
   "source": []
  }
 ],
 "metadata": {
  "kernelspec": {
   "display_name": ".venv",
   "language": "python",
   "name": "python3"
  },
  "language_info": {
   "codemirror_mode": {
    "name": "ipython",
    "version": 3
   },
   "file_extension": ".py",
   "mimetype": "text/x-python",
   "name": "python",
   "nbconvert_exporter": "python",
   "pygments_lexer": "ipython3",
   "version": "3.9.13"
  },
  "orig_nbformat": 4
 },
 "nbformat": 4,
 "nbformat_minor": 2
}
