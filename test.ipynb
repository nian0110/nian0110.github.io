{
 "cells": [
  {
   "cell_type": "code",
   "execution_count": 2,
   "metadata": {},
   "outputs": [],
   "source": [
    "import pandas as pd\n",
    "import os\n",
    "import shutil"
   ]
  },
  {
   "cell_type": "code",
   "execution_count": 3,
   "metadata": {},
   "outputs": [],
   "source": [
    "def list_all_folders(directory):\n",
    "    try:\n",
    "        # 使用 os.listdir 遍歷目錄\n",
    "        folders = [name.replace('\\\\', '/') for name in os.listdir(directory) if os.path.isdir(os.path.join(directory, name))]\n",
    "        return folders\n",
    "    except Exception as e:\n",
    "        print(f\"發生錯誤：{e}\")\n",
    "        return []"
   ]
  },
  {
   "cell_type": "code",
   "execution_count": 4,
   "metadata": {},
   "outputs": [],
   "source": [
    "def find_jpg_files(root_folder, foldername, extension):\n",
    "    df = pd.DataFrame()\n",
    "\n",
    "    # 遍历目录\n",
    "    folder = os.path.join(root_folder, foldername).replace('\\\\', '/')\n",
    "    file_list = []\n",
    "    for dirpath, _, filenames in os.walk(folder):\n",
    "        for filename in filenames:\n",
    "            if filename.lower().endswith(extension):\n",
    "                full_path = os.path.join(dirpath, filename)\n",
    "                file_list.append({'filename': filename, 'full_path': full_path, 'foldername':foldername})\n",
    "    tmp_df = pd.DataFrame(file_list, columns=['filename', 'full_path', 'foldername'])\n",
    "    df = pd.concat([df, tmp_df])\n",
    "    print('')\n",
    "    print(f'{foldername}: {tmp_df.shape}')\n",
    "\n",
    "    df['full_path'] = df['full_path'].apply(lambda x: x.replace('\\\\', '/'))\n",
    "    return df"
   ]
  },
  {
   "cell_type": "code",
   "execution_count": 5,
   "metadata": {},
   "outputs": [],
   "source": [
    "def delete_file(files, path):\n",
    "    file_list = files.strip().splitlines()\n",
    "    success_count = 0\n",
    "    failure_count = 0\n",
    "    failed_files = []\n",
    "\n",
    "    # 搜尋目錄中所有的檔案\n",
    "    file_paths = []\n",
    "    for root, _, filenames in os.walk(path):\n",
    "        for filename in filenames:\n",
    "            if filename in file_list:\n",
    "                file_paths.append(os.path.join(root, filename))\n",
    "\n",
    "    # 刪除檔案\n",
    "    for full_path in file_paths:\n",
    "        try:\n",
    "            os.remove(full_path)\n",
    "            success_count += 1\n",
    "        except Exception as e:\n",
    "            failure_count += 1\n",
    "            failed_files.append((full_path, str(e)))\n",
    "\n",
    "    print(f\"成功刪除 {success_count} 個檔案\")\n",
    "    print(f\"刪除失敗 {failure_count} 個檔案\")\n",
    "    if failed_files:\n",
    "        print(\"失敗檔案列表：\")\n",
    "        for failed_file, error in failed_files:\n",
    "            print(f\"- {failed_file}: {error}\")"
   ]
  },
  {
   "cell_type": "code",
   "execution_count": 6,
   "metadata": {},
   "outputs": [],
   "source": [
    "def data_to_csv(df):\n",
    "    output_dir = './data/test'\n",
    "    os.makedirs(output_dir, exist_ok=True)  # 確保輸出目錄存在\n",
    "\n",
    "    for folder in df['foldername'].unique():\n",
    "        df_tmp = df[df['foldername'] == folder]\n",
    "        # 按檔名排序（忽略大小寫）\n",
    "        df_tmp = df_tmp.sort_values('filename', key=lambda x: x.str.lower()).reset_index(drop=True)\n",
    "\n",
    "        # 計算總批次數\n",
    "        batch_size = 200\n",
    "        num_batches = (len(df_tmp) + batch_size - 1) // batch_size\n",
    "\n",
    "        for batch_idx in range(num_batches):\n",
    "            start = batch_idx * batch_size\n",
    "            end = start + batch_size\n",
    "            batch_df = df_tmp.iloc[start:end]\n",
    "            \n",
    "            # 檔名格式：folder_1.csv、folder_2.csv...\n",
    "            output_file = os.path.join(output_dir, f'{folder}_{batch_idx + 1}.csv')\n",
    "            batch_df.to_csv(output_file, index=False)\n",
    "            print(f'{output_file}:{batch_df.shape[0]}')"
   ]
  },
  {
   "cell_type": "code",
   "execution_count": 7,
   "metadata": {},
   "outputs": [],
   "source": [
    "def delete_files_except(csv_path, images_folder, extension):\n",
    "    try:\n",
    "        # Read CSV file, assuming no header\n",
    "        files_to_keep = pd.read_csv(csv_path, header=None)[0].tolist()\n",
    "        \n",
    "        # Counters\n",
    "        deleted_count = 0\n",
    "        kept_count = 0\n",
    "        print(len(files_to_keep))\n",
    "        \n",
    "        # Traverse all files in the folder and its subfolders\n",
    "        for dirpath, _, filenames in os.walk(images_folder):\n",
    "            for filename in filenames:\n",
    "                if filename.endswith(extension):\n",
    "                    file_path = os.path.join(dirpath, filename)\n",
    "                    \n",
    "                    if filename in files_to_keep:\n",
    "                        kept_count += 1\n",
    "                    else:\n",
    "                        try:\n",
    "                            os.remove(file_path)\n",
    "                            deleted_count += 1\n",
    "                        except Exception as e:\n",
    "                            print(f\"Error deleting {filename}: {str(e)}\")\n",
    "        \n",
    "        print(\"\\nProcessing completed!\")\n",
    "        print(f\"Images kept: {kept_count}\")\n",
    "        print(f\"Images deleted: {deleted_count}\")\n",
    "        \n",
    "    except Exception as e:\n",
    "        print(f\"An error occurred: {str(e)}\")"
   ]
  },
  {
   "attachments": {},
   "cell_type": "markdown",
   "metadata": {},
   "source": [
    "---"
   ]
  },
  {
   "cell_type": "code",
   "execution_count": 18,
   "metadata": {},
   "outputs": [
    {
     "data": {
      "text/plain": [
       "['20240519_LingOrmCharityBirthday',\n",
       " '20240526_ORM_CHARITY_FASHION_SHOW',\n",
       " '20240621_SWUPridexOrmKornnaphat']"
      ]
     },
     "execution_count": 18,
     "metadata": {},
     "output_type": "execute_result"
    }
   ],
   "source": [
    "# root_folder = './images/check/'\n",
    "root_folder = './image_process/compress/'\n",
    "foldernames = list_all_folders(root_folder)\n",
    "foldernames"
   ]
  },
  {
   "cell_type": "code",
   "execution_count": 19,
   "metadata": {},
   "outputs": [
    {
     "name": "stdout",
     "output_type": "stream",
     "text": [
      "\n",
      "20240519_LingOrmCharityBirthday: (462, 3)\n",
      "./data/test\\20240519_LingOrmCharityBirthday_1.csv:200\n",
      "./data/test\\20240519_LingOrmCharityBirthday_2.csv:200\n",
      "./data/test\\20240519_LingOrmCharityBirthday_3.csv:62\n",
      "\n",
      "20240526_ORM_CHARITY_FASHION_SHOW: (28, 3)\n",
      "./data/test\\20240526_ORM_CHARITY_FASHION_SHOW_1.csv:28\n",
      "\n",
      "20240621_SWUPridexOrmKornnaphat: (46, 3)\n",
      "./data/test\\20240621_SWUPridexOrmKornnaphat_1.csv:46\n"
     ]
    }
   ],
   "source": [
    "# foldernames = ['check']\n",
    "for foldername in foldernames:\n",
    "    df = find_jpg_files(root_folder, foldername, '.webp')\n",
    "    data_to_csv(df)"
   ]
  },
  {
   "attachments": {},
   "cell_type": "markdown",
   "metadata": {},
   "source": [
    "### 刪除photo"
   ]
  },
  {
   "cell_type": "code",
   "execution_count": 35,
   "metadata": {},
   "outputs": [],
   "source": [
    "files = '''\n",
    "Abears19_1802376259059720302_2024-06-16 16-22_1.webp\n",
    "LilyRose_38_1802350130882109889_2024-06-16 14-38_2.webp\n",
    "LilyRose_38_1802350130882109889_2024-06-16 14-38_3.webp\n",
    "LilyRose_38_1802340001642151957_2024-06-16 13-58_4.webp\n",
    "TYTFSGIR4EVA_1802359740686889310_2024-06-16 15-17_2.webp\n",
    "'''"
   ]
  },
  {
   "cell_type": "code",
   "execution_count": 36,
   "metadata": {},
   "outputs": [
    {
     "name": "stdout",
     "output_type": "stream",
     "text": [
      "成功刪除 5 個檔案\n",
      "刪除失敗 0 個檔案\n"
     ]
    }
   ],
   "source": [
    "path_check = './images/check/'\n",
    "delete_file(files, path_check)"
   ]
  },
  {
   "cell_type": "code",
   "execution_count": 37,
   "metadata": {},
   "outputs": [
    {
     "name": "stdout",
     "output_type": "stream",
     "text": [
      "成功刪除 1 個檔案\n",
      "刪除失敗 0 個檔案\n"
     ]
    }
   ],
   "source": [
    "path_activity = './images/活動/'\n",
    "delete_file(files, path_activity)"
   ]
  },
  {
   "attachments": {},
   "cell_type": "markdown",
   "metadata": {},
   "source": [
    "### 保留photo"
   ]
  },
  {
   "cell_type": "code",
   "execution_count": 9,
   "metadata": {},
   "outputs": [
    {
     "name": "stdout",
     "output_type": "stream",
     "text": [
      "11\n",
      "\n",
      "Processing completed!\n",
      "Images kept: 11\n",
      "Images deleted: 94\n"
     ]
    }
   ],
   "source": [
    "root_folder = './images/check/photo_activity_1201-1'\n",
    "delete_files_except('files_to_preserve.csv', root_folder, '.jpg')"
   ]
  },
  {
   "cell_type": "markdown",
   "metadata": {},
   "source": [
    "---"
   ]
  },
  {
   "cell_type": "code",
   "execution_count": 9,
   "metadata": {},
   "outputs": [],
   "source": [
    "def df_process(df, new_path):\n",
    "    df['filename'] = df['filename'].apply(lambda x:x.replace('.jpg', '.webp'))\n",
    "    df['full_path'] = df['full_path'].apply(lambda x:x.replace('.jpg', '.webp'))\n",
    "    df = df[df['root_path']=='活動']\n",
    "    df = df[['filename', 'full_path']]\n",
    "    df = df.rename(columns={\"full_path\": \"new_path\"})\n",
    "    df['new_path'] = df['new_path'].apply(lambda x:x.replace('/Users/linnianyi/Library/CloudStorage/GoogleDrive-qaz51465146@gmail.com/我的雲端硬碟/LingOrm圖片/活動/', new_path))\n",
    "    return df  "
   ]
  },
  {
   "cell_type": "code",
   "execution_count": 10,
   "metadata": {},
   "outputs": [],
   "source": [
    "new_path = './images/活動/'\n",
    "df_photo_data = pd.read_excel('photo_data.xlsx')\n",
    "df_photo_data = df_process(df_photo_data, new_path)"
   ]
  },
  {
   "cell_type": "code",
   "execution_count": 11,
   "metadata": {},
   "outputs": [
    {
     "data": {
      "text/plain": [
       "(38048, 2)"
      ]
     },
     "execution_count": 11,
     "metadata": {},
     "output_type": "execute_result"
    }
   ],
   "source": [
    "df_photo_data.shape"
   ]
  },
  {
   "cell_type": "code",
   "execution_count": 12,
   "metadata": {},
   "outputs": [
    {
     "data": {
      "text/html": [
       "<div>\n",
       "<style scoped>\n",
       "    .dataframe tbody tr th:only-of-type {\n",
       "        vertical-align: middle;\n",
       "    }\n",
       "\n",
       "    .dataframe tbody tr th {\n",
       "        vertical-align: top;\n",
       "    }\n",
       "\n",
       "    .dataframe thead th {\n",
       "        text-align: right;\n",
       "    }\n",
       "</style>\n",
       "<table border=\"1\" class=\"dataframe\">\n",
       "  <thead>\n",
       "    <tr style=\"text-align: right;\">\n",
       "      <th></th>\n",
       "      <th>filename</th>\n",
       "      <th>new_path</th>\n",
       "    </tr>\n",
       "  </thead>\n",
       "  <tbody>\n",
       "    <tr>\n",
       "      <th>3591</th>\n",
       "      <td>muimui_za_1831621706043289845_2024-09-05 09-13...</td>\n",
       "      <td>./images/活動/202311/20231101_試鏡/muimui_za_18316...</td>\n",
       "    </tr>\n",
       "    <tr>\n",
       "      <th>3592</th>\n",
       "      <td>muimui_za_1831621706043289845_2024-09-05 09-13...</td>\n",
       "      <td>./images/活動/202311/20231101_試鏡/muimui_za_18316...</td>\n",
       "    </tr>\n",
       "    <tr>\n",
       "      <th>3593</th>\n",
       "      <td>muimui_za_1831621706043289845_2024-09-05 09-13...</td>\n",
       "      <td>./images/活動/202311/20231101_試鏡/muimui_za_18316...</td>\n",
       "    </tr>\n",
       "    <tr>\n",
       "      <th>3594</th>\n",
       "      <td>muimui_za_1831621706043289845_2024-09-05 09-13...</td>\n",
       "      <td>./images/活動/202311/20231101_試鏡/muimui_za_18316...</td>\n",
       "    </tr>\n",
       "    <tr>\n",
       "      <th>3595</th>\n",
       "      <td>muimui_za_1831900664223674858_2024-09-06 03-42...</td>\n",
       "      <td>./images/活動/202311/20231101_試鏡/muimui_za_18319...</td>\n",
       "    </tr>\n",
       "  </tbody>\n",
       "</table>\n",
       "</div>"
      ],
      "text/plain": [
       "                                               filename  \\\n",
       "3591  muimui_za_1831621706043289845_2024-09-05 09-13...   \n",
       "3592  muimui_za_1831621706043289845_2024-09-05 09-13...   \n",
       "3593  muimui_za_1831621706043289845_2024-09-05 09-13...   \n",
       "3594  muimui_za_1831621706043289845_2024-09-05 09-13...   \n",
       "3595  muimui_za_1831900664223674858_2024-09-06 03-42...   \n",
       "\n",
       "                                               new_path  \n",
       "3591  ./images/活動/202311/20231101_試鏡/muimui_za_18316...  \n",
       "3592  ./images/活動/202311/20231101_試鏡/muimui_za_18316...  \n",
       "3593  ./images/活動/202311/20231101_試鏡/muimui_za_18316...  \n",
       "3594  ./images/活動/202311/20231101_試鏡/muimui_za_18316...  \n",
       "3595  ./images/活動/202311/20231101_試鏡/muimui_za_18319...  "
      ]
     },
     "execution_count": 12,
     "metadata": {},
     "output_type": "execute_result"
    }
   ],
   "source": [
    "df_photo_data.head()"
   ]
  },
  {
   "cell_type": "code",
   "execution_count": 189,
   "metadata": {},
   "outputs": [
    {
     "name": "stdout",
     "output_type": "stream",
     "text": [
      "\n",
      "apollowny: (90, 3)\n",
      "\n",
      "Cherished_M0511: (260, 3)\n",
      "\n",
      "cherry0525_: (137, 3)\n",
      "\n",
      "Convallaria_LO: (259, 3)\n",
      "\n",
      "GasChill: (752, 3)\n",
      "\n",
      "Honeylattexx: (26, 3)\n",
      "\n",
      "ikkkkkkkG: (174, 3)\n",
      "\n",
      "JungsJinns: (855, 3)\n",
      "\n",
      "Koiiz9: (515, 3)\n",
      "\n",
      "LilyRose_38: (97, 3)\n",
      "\n",
      "LOgallery38: (9, 3)\n",
      "\n",
      "luv168cm: (85, 3)\n",
      "\n",
      "mollie8119: (71, 3)\n",
      "\n",
      "MONSOON_LLO: (39, 3)\n",
      "\n",
      "ooks51127: (37, 3)\n",
      "\n",
      "RoyalHaven1127: (232, 3)\n",
      "\n",
      "TTaeny09: (56, 3)\n",
      "\n",
      "TYTFSGIR4EVA: (104, 3)\n"
     ]
    }
   ],
   "source": [
    "df_all = pd.DataFrame()\n",
    "root_folder = './images/活動/user'\n",
    "foldernames = list_all_folders(root_folder)\n",
    "for foldername in foldernames:\n",
    "    df2 = find_jpg_files(root_folder, foldername, '.webp')\n",
    "    df_all = pd.concat([df_all, df2])"
   ]
  },
  {
   "cell_type": "code",
   "execution_count": 211,
   "metadata": {},
   "outputs": [
    {
     "data": {
      "text/plain": [
       "(3798, 3)"
      ]
     },
     "execution_count": 211,
     "metadata": {},
     "output_type": "execute_result"
    }
   ],
   "source": [
    "df_all.shape"
   ]
  },
  {
   "cell_type": "code",
   "execution_count": 212,
   "metadata": {},
   "outputs": [
    {
     "data": {
      "text/html": [
       "<div>\n",
       "<style scoped>\n",
       "    .dataframe tbody tr th:only-of-type {\n",
       "        vertical-align: middle;\n",
       "    }\n",
       "\n",
       "    .dataframe tbody tr th {\n",
       "        vertical-align: top;\n",
       "    }\n",
       "\n",
       "    .dataframe thead th {\n",
       "        text-align: right;\n",
       "    }\n",
       "</style>\n",
       "<table border=\"1\" class=\"dataframe\">\n",
       "  <thead>\n",
       "    <tr style=\"text-align: right;\">\n",
       "      <th></th>\n",
       "      <th>filename</th>\n",
       "      <th>full_path</th>\n",
       "      <th>foldername</th>\n",
       "    </tr>\n",
       "  </thead>\n",
       "  <tbody>\n",
       "    <tr>\n",
       "      <th>0</th>\n",
       "      <td>apollowny_1853495118952820966_2024-11-04 17-50...</td>\n",
       "      <td>./images/活動/user/apollowny/apollowny_185349511...</td>\n",
       "      <td>apollowny</td>\n",
       "    </tr>\n",
       "    <tr>\n",
       "      <th>1</th>\n",
       "      <td>apollowny_1853495118952820966_2024-11-04 17-50...</td>\n",
       "      <td>./images/活動/user/apollowny/apollowny_185349511...</td>\n",
       "      <td>apollowny</td>\n",
       "    </tr>\n",
       "  </tbody>\n",
       "</table>\n",
       "</div>"
      ],
      "text/plain": [
       "                                            filename  \\\n",
       "0  apollowny_1853495118952820966_2024-11-04 17-50...   \n",
       "1  apollowny_1853495118952820966_2024-11-04 17-50...   \n",
       "\n",
       "                                           full_path foldername  \n",
       "0  ./images/活動/user/apollowny/apollowny_185349511...  apollowny  \n",
       "1  ./images/活動/user/apollowny/apollowny_185349511...  apollowny  "
      ]
     },
     "execution_count": 212,
     "metadata": {},
     "output_type": "execute_result"
    }
   ],
   "source": [
    "df_all.head(2)"
   ]
  },
  {
   "cell_type": "code",
   "execution_count": 213,
   "metadata": {},
   "outputs": [],
   "source": [
    "df_all = df_all.merge(df_photo_data, on='filename', how='left')"
   ]
  },
  {
   "cell_type": "code",
   "execution_count": 224,
   "metadata": {},
   "outputs": [
    {
     "data": {
      "text/plain": [
       "(3798, 4)"
      ]
     },
     "execution_count": 224,
     "metadata": {},
     "output_type": "execute_result"
    }
   ],
   "source": [
    "df_all.shape"
   ]
  },
  {
   "cell_type": "code",
   "execution_count": 223,
   "metadata": {},
   "outputs": [
    {
     "data": {
      "text/plain": [
       "filename\n",
       "TYTFSGIR4EVA_1856669867317047430_2024-11-13 12-06_1.webp    1\n",
       "apollowny_1853495118952820966_2024-11-04 17-50_1.webp       1\n",
       "apollowny_1853495118952820966_2024-11-04 17-50_2.webp       1\n",
       "apollowny_1853495118952820966_2024-11-04 17-50_3.webp       1\n",
       "apollowny_1853495118952820966_2024-11-04 17-50_4.webp       1\n",
       "                                                           ..\n",
       "apollowny_1853504577418744272_2024-11-04 18-28_2.webp       1\n",
       "apollowny_1853504186476060739_2024-11-04 18-26_1.webp       1\n",
       "apollowny_1853503709411733860_2024-11-04 18-24_2.webp       1\n",
       "apollowny_1853501578134835415_2024-11-04 18-16_4.webp       1\n",
       "apollowny_1853501578134835415_2024-11-04 18-16_3.webp       1\n",
       "Name: count, Length: 3798, dtype: int64"
      ]
     },
     "execution_count": 223,
     "metadata": {},
     "output_type": "execute_result"
    }
   ],
   "source": [
    "df_all.filename.value_counts()"
   ]
  },
  {
   "cell_type": "code",
   "execution_count": 222,
   "metadata": {},
   "outputs": [],
   "source": [
    "df_all.drop(117, inplace=True)\n",
    "df_all.drop(2202, inplace=True)"
   ]
  },
  {
   "cell_type": "code",
   "execution_count": 219,
   "metadata": {},
   "outputs": [
    {
     "data": {
      "text/html": [
       "<div>\n",
       "<style scoped>\n",
       "    .dataframe tbody tr th:only-of-type {\n",
       "        vertical-align: middle;\n",
       "    }\n",
       "\n",
       "    .dataframe tbody tr th {\n",
       "        vertical-align: top;\n",
       "    }\n",
       "\n",
       "    .dataframe thead th {\n",
       "        text-align: right;\n",
       "    }\n",
       "</style>\n",
       "<table border=\"1\" class=\"dataframe\">\n",
       "  <thead>\n",
       "    <tr style=\"text-align: right;\">\n",
       "      <th></th>\n",
       "      <th>filename</th>\n",
       "      <th>full_path</th>\n",
       "      <th>foldername</th>\n",
       "      <th>new_path</th>\n",
       "    </tr>\n",
       "  </thead>\n",
       "  <tbody>\n",
       "    <tr>\n",
       "      <th>117</th>\n",
       "      <td>Cherished_M0511_1837726603583148054_2024-09-22...</td>\n",
       "      <td>./images/活動/user/Cherished_M0511/Cherished_M05...</td>\n",
       "      <td>Cherished_M0511</td>\n",
       "      <td>./image/活動/202409/20240913_DestinyClinicOrm/20...</td>\n",
       "    </tr>\n",
       "    <tr>\n",
       "      <th>118</th>\n",
       "      <td>Cherished_M0511_1837726603583148054_2024-09-22...</td>\n",
       "      <td>./images/活動/user/Cherished_M0511/Cherished_M05...</td>\n",
       "      <td>Cherished_M0511</td>\n",
       "      <td>./image/活動/202409/20240921_LingOrm1stMeetMacau...</td>\n",
       "    </tr>\n",
       "  </tbody>\n",
       "</table>\n",
       "</div>"
      ],
      "text/plain": [
       "                                              filename  \\\n",
       "117  Cherished_M0511_1837726603583148054_2024-09-22...   \n",
       "118  Cherished_M0511_1837726603583148054_2024-09-22...   \n",
       "\n",
       "                                             full_path       foldername  \\\n",
       "117  ./images/活動/user/Cherished_M0511/Cherished_M05...  Cherished_M0511   \n",
       "118  ./images/活動/user/Cherished_M0511/Cherished_M05...  Cherished_M0511   \n",
       "\n",
       "                                              new_path  \n",
       "117  ./image/活動/202409/20240913_DestinyClinicOrm/20...  \n",
       "118  ./image/活動/202409/20240921_LingOrm1stMeetMacau...  "
      ]
     },
     "execution_count": 219,
     "metadata": {},
     "output_type": "execute_result"
    }
   ],
   "source": [
    "df_all[df_all['filename']=='Cherished_M0511_1837726603583148054_2024-09-22 05-32_2.webp']"
   ]
  },
  {
   "cell_type": "code",
   "execution_count": 220,
   "metadata": {},
   "outputs": [
    {
     "data": {
      "text/html": [
       "<div>\n",
       "<style scoped>\n",
       "    .dataframe tbody tr th:only-of-type {\n",
       "        vertical-align: middle;\n",
       "    }\n",
       "\n",
       "    .dataframe tbody tr th {\n",
       "        vertical-align: top;\n",
       "    }\n",
       "\n",
       "    .dataframe thead th {\n",
       "        text-align: right;\n",
       "    }\n",
       "</style>\n",
       "<table border=\"1\" class=\"dataframe\">\n",
       "  <thead>\n",
       "    <tr style=\"text-align: right;\">\n",
       "      <th></th>\n",
       "      <th>filename</th>\n",
       "      <th>full_path</th>\n",
       "      <th>foldername</th>\n",
       "      <th>new_path</th>\n",
       "    </tr>\n",
       "  </thead>\n",
       "  <tbody>\n",
       "    <tr>\n",
       "      <th>2202</th>\n",
       "      <td>JungsJinns_1837456770014576857_2024-09-21 11-4...</td>\n",
       "      <td>./images/活動/user/JungsJinns/JungsJinns_1837456...</td>\n",
       "      <td>JungsJinns</td>\n",
       "      <td>./image/活動/202409/20240913_DestinyClinicOrm/20...</td>\n",
       "    </tr>\n",
       "    <tr>\n",
       "      <th>2203</th>\n",
       "      <td>JungsJinns_1837456770014576857_2024-09-21 11-4...</td>\n",
       "      <td>./images/活動/user/JungsJinns/JungsJinns_1837456...</td>\n",
       "      <td>JungsJinns</td>\n",
       "      <td>./image/活動/202409/20240921_LingOrm1stMeetMacau...</td>\n",
       "    </tr>\n",
       "  </tbody>\n",
       "</table>\n",
       "</div>"
      ],
      "text/plain": [
       "                                               filename  \\\n",
       "2202  JungsJinns_1837456770014576857_2024-09-21 11-4...   \n",
       "2203  JungsJinns_1837456770014576857_2024-09-21 11-4...   \n",
       "\n",
       "                                              full_path  foldername  \\\n",
       "2202  ./images/活動/user/JungsJinns/JungsJinns_1837456...  JungsJinns   \n",
       "2203  ./images/活動/user/JungsJinns/JungsJinns_1837456...  JungsJinns   \n",
       "\n",
       "                                               new_path  \n",
       "2202  ./image/活動/202409/20240913_DestinyClinicOrm/20...  \n",
       "2203  ./image/活動/202409/20240921_LingOrm1stMeetMacau...  "
      ]
     },
     "execution_count": 220,
     "metadata": {},
     "output_type": "execute_result"
    }
   ],
   "source": [
    "df_all[df_all['filename']=='JungsJinns_1837456770014576857_2024-09-21 11-40_1.webp']"
   ]
  },
  {
   "cell_type": "code",
   "execution_count": 225,
   "metadata": {},
   "outputs": [
    {
     "data": {
      "text/html": [
       "<div>\n",
       "<style scoped>\n",
       "    .dataframe tbody tr th:only-of-type {\n",
       "        vertical-align: middle;\n",
       "    }\n",
       "\n",
       "    .dataframe tbody tr th {\n",
       "        vertical-align: top;\n",
       "    }\n",
       "\n",
       "    .dataframe thead th {\n",
       "        text-align: right;\n",
       "    }\n",
       "</style>\n",
       "<table border=\"1\" class=\"dataframe\">\n",
       "  <thead>\n",
       "    <tr style=\"text-align: right;\">\n",
       "      <th></th>\n",
       "      <th>filename</th>\n",
       "      <th>full_path</th>\n",
       "      <th>foldername</th>\n",
       "      <th>new_path</th>\n",
       "    </tr>\n",
       "  </thead>\n",
       "  <tbody>\n",
       "    <tr>\n",
       "      <th>0</th>\n",
       "      <td>apollowny_1853495118952820966_2024-11-04 17-50...</td>\n",
       "      <td>./images/活動/user/apollowny/apollowny_185349511...</td>\n",
       "      <td>apollowny</td>\n",
       "      <td>./image/活動/202411/20241102_Orm1stFMNanning/apo...</td>\n",
       "    </tr>\n",
       "    <tr>\n",
       "      <th>1</th>\n",
       "      <td>apollowny_1853495118952820966_2024-11-04 17-50...</td>\n",
       "      <td>./images/活動/user/apollowny/apollowny_185349511...</td>\n",
       "      <td>apollowny</td>\n",
       "      <td>./image/活動/202411/20241102_Orm1stFMNanning/apo...</td>\n",
       "    </tr>\n",
       "    <tr>\n",
       "      <th>2</th>\n",
       "      <td>apollowny_1853495118952820966_2024-11-04 17-50...</td>\n",
       "      <td>./images/活動/user/apollowny/apollowny_185349511...</td>\n",
       "      <td>apollowny</td>\n",
       "      <td>./image/活動/202411/20241102_Orm1stFMNanning/apo...</td>\n",
       "    </tr>\n",
       "    <tr>\n",
       "      <th>3</th>\n",
       "      <td>apollowny_1853495118952820966_2024-11-04 17-50...</td>\n",
       "      <td>./images/活動/user/apollowny/apollowny_185349511...</td>\n",
       "      <td>apollowny</td>\n",
       "      <td>./image/活動/202411/20241102_Orm1stFMNanning/apo...</td>\n",
       "    </tr>\n",
       "    <tr>\n",
       "      <th>4</th>\n",
       "      <td>apollowny_1853501578134835415_2024-11-04 18-16...</td>\n",
       "      <td>./images/活動/user/apollowny/apollowny_185350157...</td>\n",
       "      <td>apollowny</td>\n",
       "      <td>./image/活動/202411/20241102_LinglingNNGFirstMee...</td>\n",
       "    </tr>\n",
       "  </tbody>\n",
       "</table>\n",
       "</div>"
      ],
      "text/plain": [
       "                                            filename  \\\n",
       "0  apollowny_1853495118952820966_2024-11-04 17-50...   \n",
       "1  apollowny_1853495118952820966_2024-11-04 17-50...   \n",
       "2  apollowny_1853495118952820966_2024-11-04 17-50...   \n",
       "3  apollowny_1853495118952820966_2024-11-04 17-50...   \n",
       "4  apollowny_1853501578134835415_2024-11-04 18-16...   \n",
       "\n",
       "                                           full_path foldername  \\\n",
       "0  ./images/活動/user/apollowny/apollowny_185349511...  apollowny   \n",
       "1  ./images/活動/user/apollowny/apollowny_185349511...  apollowny   \n",
       "2  ./images/活動/user/apollowny/apollowny_185349511...  apollowny   \n",
       "3  ./images/活動/user/apollowny/apollowny_185349511...  apollowny   \n",
       "4  ./images/活動/user/apollowny/apollowny_185350157...  apollowny   \n",
       "\n",
       "                                            new_path  \n",
       "0  ./image/活動/202411/20241102_Orm1stFMNanning/apo...  \n",
       "1  ./image/活動/202411/20241102_Orm1stFMNanning/apo...  \n",
       "2  ./image/活動/202411/20241102_Orm1stFMNanning/apo...  \n",
       "3  ./image/活動/202411/20241102_Orm1stFMNanning/apo...  \n",
       "4  ./image/活動/202411/20241102_LinglingNNGFirstMee...  "
      ]
     },
     "execution_count": 225,
     "metadata": {},
     "output_type": "execute_result"
    }
   ],
   "source": [
    "df_all.head()"
   ]
  },
  {
   "cell_type": "code",
   "execution_count": 226,
   "metadata": {},
   "outputs": [],
   "source": [
    "for _, row in df_all.iterrows():\n",
    "    source = row['full_path']\n",
    "    destination = row['new_path']\n",
    "    \n",
    "    # 创建目标文件夹（如果不存在）\n",
    "    os.makedirs(os.path.dirname(destination), exist_ok=True)\n",
    "    \n",
    "    # 复制文件\n",
    "    shutil.copy(source, destination)"
   ]
  },
  {
   "cell_type": "markdown",
   "metadata": {},
   "source": [
    "---"
   ]
  },
  {
   "cell_type": "code",
   "execution_count": 18,
   "metadata": {},
   "outputs": [
    {
     "name": "stdout",
     "output_type": "stream",
     "text": [
      "\n",
      "notion: (3035, 3)\n"
     ]
    }
   ],
   "source": [
    "df_all = pd.DataFrame()\n",
    "root_folder = './images/活動'\n",
    "foldernames = ['notion']\n",
    "for foldername in foldernames:\n",
    "    df2 = find_jpg_files(root_folder, foldername, '.webp')\n",
    "    df_all = pd.concat([df_all, df2])"
   ]
  },
  {
   "cell_type": "code",
   "execution_count": 19,
   "metadata": {},
   "outputs": [
    {
     "data": {
      "text/plain": [
       "(3035, 3)"
      ]
     },
     "execution_count": 19,
     "metadata": {},
     "output_type": "execute_result"
    }
   ],
   "source": [
    "df_all.shape"
   ]
  },
  {
   "cell_type": "code",
   "execution_count": 20,
   "metadata": {},
   "outputs": [],
   "source": [
    "df_all = df_all.merge(df_photo_data, on='filename', how='left')"
   ]
  },
  {
   "cell_type": "code",
   "execution_count": 21,
   "metadata": {},
   "outputs": [
    {
     "data": {
      "text/plain": [
       "(3042, 4)"
      ]
     },
     "execution_count": 21,
     "metadata": {},
     "output_type": "execute_result"
    }
   ],
   "source": [
    "df_all.shape"
   ]
  },
  {
   "cell_type": "code",
   "execution_count": 32,
   "metadata": {},
   "outputs": [
    {
     "data": {
      "text/html": [
       "<div>\n",
       "<style scoped>\n",
       "    .dataframe tbody tr th:only-of-type {\n",
       "        vertical-align: middle;\n",
       "    }\n",
       "\n",
       "    .dataframe tbody tr th {\n",
       "        vertical-align: top;\n",
       "    }\n",
       "\n",
       "    .dataframe thead th {\n",
       "        text-align: right;\n",
       "    }\n",
       "</style>\n",
       "<table border=\"1\" class=\"dataframe\">\n",
       "  <thead>\n",
       "    <tr style=\"text-align: right;\">\n",
       "      <th></th>\n",
       "      <th>filename</th>\n",
       "      <th>full_path</th>\n",
       "      <th>foldername</th>\n",
       "      <th>new_path</th>\n",
       "    </tr>\n",
       "  </thead>\n",
       "  <tbody>\n",
       "    <tr>\n",
       "      <th>0</th>\n",
       "      <td>-小王-w_5069823839044298_2024-08-21 07-00_1.webp</td>\n",
       "      <td>./images/活動/notion/-小王-w_5069823839044298_2024...</td>\n",
       "      <td>notion</td>\n",
       "      <td>./images/活動/202408/20240817_LingOrm1stFMinHK/-...</td>\n",
       "    </tr>\n",
       "    <tr>\n",
       "      <th>1</th>\n",
       "      <td>-小王-w_5069823839044298_2024-08-21 07-00_7.webp</td>\n",
       "      <td>./images/活動/notion/-小王-w_5069823839044298_2024...</td>\n",
       "      <td>notion</td>\n",
       "      <td>./images/活動/202408/20240817_LingOrm1stFMinHK/-...</td>\n",
       "    </tr>\n",
       "  </tbody>\n",
       "</table>\n",
       "</div>"
      ],
      "text/plain": [
       "                                         filename  \\\n",
       "0  -小王-w_5069823839044298_2024-08-21 07-00_1.webp   \n",
       "1  -小王-w_5069823839044298_2024-08-21 07-00_7.webp   \n",
       "\n",
       "                                           full_path foldername  \\\n",
       "0  ./images/活動/notion/-小王-w_5069823839044298_2024...     notion   \n",
       "1  ./images/活動/notion/-小王-w_5069823839044298_2024...     notion   \n",
       "\n",
       "                                            new_path  \n",
       "0  ./images/活動/202408/20240817_LingOrm1stFMinHK/-...  \n",
       "1  ./images/活動/202408/20240817_LingOrm1stFMinHK/-...  "
      ]
     },
     "execution_count": 32,
     "metadata": {},
     "output_type": "execute_result"
    }
   ],
   "source": [
    "df_all.head(2)"
   ]
  },
  {
   "cell_type": "code",
   "execution_count": 43,
   "metadata": {},
   "outputs": [],
   "source": [
    "aa = df_all[df_all.new_path.isna()]"
   ]
  },
  {
   "cell_type": "code",
   "execution_count": 48,
   "metadata": {},
   "outputs": [
    {
     "data": {
      "text/plain": [
       "'AiMenig_1830607983505789415_2024-09-02 14-05_1.webp'"
      ]
     },
     "execution_count": 48,
     "metadata": {},
     "output_type": "execute_result"
    }
   ],
   "source": [
    "aa['filename'][77]"
   ]
  },
  {
   "cell_type": "code",
   "execution_count": 51,
   "metadata": {},
   "outputs": [
    {
     "name": "stdout",
     "output_type": "stream",
     "text": [
      "./images/活動/notion/AiMenig_1830607983505789415_2024-09-02 14-05_1.webp\n",
      "nan\n",
      "\n",
      "./images/活動/notion/buzzzz_425_1849091349288722900_2024-10-23 14-11_2.webp\n",
      "nan\n",
      "\n",
      "./images/活動/notion/Fang_1225_5074984823166268_2024-09-04 12-48_6.webp\n",
      "nan\n",
      "\n",
      "./images/活動/notion/Fang_1225_5074984823166268_2024-09-04 12-48_7.webp\n",
      "nan\n",
      "\n",
      "./images/活動/notion/fanoii_1845111430502285590_2024-10-12 14-37_1.webp\n",
      "nan\n",
      "\n",
      "./images/活動/notion/FiloROSIE_1832746817072836671_2024-09-08 11-44_1.webp\n",
      "nan\n",
      "\n",
      "./images/活動/notion/FiloROSIE_1837029334202339749_2024-09-20 07-21_2.webp\n",
      "nan\n",
      "\n",
      "./images/活動/notion/frogiewana_1822943163771953514_2024-08-12 10-28_2.webp\n",
      "nan\n",
      "\n",
      "./images/活動/notion/frogiewana_1837487672971219307_2024-09-21 13-42_3.webp\n",
      "nan\n",
      "\n",
      "./images/活動/notion/frogiewana_1837511219802263632_2024-09-21 15-16_2.webp\n",
      "nan\n",
      "\n",
      "./images/活動/notion/frogiewana_1837746209198690814_2024-09-22 06-50_2.webp\n",
      "nan\n",
      "\n",
      "./images/活動/notion/frogiewana_1837746912105320522_2024-09-22 06-53_2.webp\n",
      "nan\n",
      "\n",
      "./images/活動/notion/frogiewana_1837805731372061012_2024-09-22 10-46_4.webp\n",
      "nan\n",
      "\n",
      "./images/活動/notion/FUJIFILM101_1827712474394800179_2024-08-25 14-19_1.webp\n",
      "nan\n",
      "\n",
      "./images/活動/notion/FUJIFILM101_1827909501007401334_2024-08-26 03-22_2.webp\n",
      "nan\n",
      "\n",
      "./images/活動/notion/FUJIFILM101_1828242462495871244_2024-08-27 01-25_3.webp\n",
      "nan\n",
      "\n",
      "./images/活動/notion/FUJIFILM101_1832830600182681712_2024-09-08 17-17_2.webp\n",
      "nan\n",
      "\n",
      "./images/活動/notion/FUJIFILM101_1833013519526326627_2024-09-09 05-24_1.webp\n",
      "nan\n",
      "\n",
      "./images/活動/notion/FUJIFILM101_1833132939259035903_2024-09-09 13-18_1.webp\n",
      "nan\n",
      "\n",
      "./images/活動/notion/FUJIFILM101_1833505485741560039_2024-09-10 13-59_2.webp\n",
      "nan\n",
      "\n",
      "./images/活動/notion/FUJIFILM101_1833679346663620775_2024-09-11 01-29_1.webp\n",
      "nan\n",
      "\n",
      "./images/活動/notion/FUJIFILM101_1833762923833082306_2024-09-11 07-02_1.webp\n",
      "nan\n",
      "\n",
      "./images/活動/notion/FUJIFILM101_1833768114267504836_2024-09-11 07-22_1.webp\n",
      "nan\n",
      "\n",
      "./images/活動/notion/FUJIFILM101_1833899900754637286_2024-09-11 16-06_4.webp\n",
      "nan\n",
      "\n",
      "./images/活動/notion/LilyRose_38_1800452300168970292_2024-06-11 08-57_3 (1).webp\n",
      "nan\n",
      "\n",
      "./images/活動/notion/LilyRose_38_1800495609935487320_2024-06-11 11-49_1 (1).webp\n",
      "nan\n",
      "\n",
      "./images/活動/notion/linggOrmm_1833896761985057067_2024-09-11 15-53_3.webp\n",
      "nan\n",
      "\n",
      "./images/活動/notion/linggOrmm_1834626623771140342_2024-09-13 16-14_1.webp\n",
      "nan\n",
      "\n",
      "./images/活動/notion/LOgallery38_1783661527930962310_2024-04-26 00-57_1.webp\n",
      "nan\n",
      "\n",
      "./images/活動/notion/LOgallery38_1783756305183936725_2024-04-26 07-13_1.webp\n",
      "nan\n",
      "\n",
      "./images/活動/notion/LOgallery38_1783768109972889697_2024-04-26 08-00_3.webp\n",
      "nan\n",
      "\n",
      "./images/活動/notion/LOgallery38_1783781104836804868_2024-04-26 08-52_2.webp\n",
      "nan\n",
      "\n",
      "./images/活動/notion/LOgallery38_1809558978629865722_2024-07-06 12-04_1.webp\n",
      "nan\n",
      "\n",
      "./images/活動/notion/LOgallery38_1809558978629865722_2024-07-06 12-04_2.webp\n",
      "nan\n",
      "\n",
      "./images/活動/notion/LOgallery38_1810323765890543972_2024-07-08 14-43_1.webp\n",
      "nan\n",
      "\n",
      "./images/活動/notion/LOgallery38_1810323765890543972_2024-07-08 14-43_2.webp\n",
      "nan\n",
      "\n",
      "./images/活動/notion/LOgallery38_1814656407607910793_2024-07-20 13-39_1.webp\n",
      "nan\n",
      "\n",
      "./images/活動/notion/LOgallery38_1814656407607910793_2024-07-20 13-39_2.webp\n",
      "nan\n",
      "\n",
      "./images/活動/notion/LOgallery38_1814656407607910793_2024-07-20 13-39_3.webp\n",
      "nan\n",
      "\n",
      "./images/活動/notion/LOgallery38_1816875594447278519_2024-07-26 16-37_1.webp\n",
      "nan\n",
      "\n",
      "./images/活動/notion/LOgallery38_1816891575986978992_2024-07-26 17-41_1.webp\n",
      "nan\n",
      "\n",
      "./images/活動/notion/LOgallery38_1820736668670017558_2024-08-06 08-20_1.webp\n",
      "nan\n",
      "\n",
      "./images/活動/notion/LOgallery38_1820795389668384845_2024-08-06 12-13_1.webp\n",
      "nan\n",
      "\n",
      "./images/活動/notion/LOgallery38_1820869390692491750_2024-08-06 17-07_1.webp\n",
      "nan\n",
      "\n",
      "./images/活動/notion/LOgallery38_1821092651174916360_2024-08-07 07-54_1.webp\n",
      "nan\n",
      "\n",
      "./images/活動/notion/LOgallery38_1822974301634810189_2024-08-12 12-31_2.webp\n",
      "nan\n",
      "\n",
      "./images/活動/notion/LOgallery38_1823766137827680711_2024-08-14 16-58_1.webp\n",
      "nan\n",
      "\n",
      "./images/活動/notion/LOgallery38_1824019708104085547_2024-08-15 09-46_3.webp\n",
      "nan\n",
      "\n",
      "./images/活動/notion/LOgallery38_1825866471333126251_2024-08-20 12-04_1.webp\n",
      "nan\n",
      "\n",
      "./images/活動/notion/LOgallery38_1825866471333126251_2024-08-20 12-04_2.webp\n",
      "nan\n",
      "\n",
      "./images/活動/notion/LOgallery38_1825916095053836302_2024-08-20 15-21_1.webp\n",
      "nan\n",
      "\n",
      "./images/活動/notion/LOgallery38_1825916095053836302_2024-08-20 15-21_2.webp\n",
      "nan\n",
      "\n",
      "./images/活動/notion/LOgallery38_1826170762644042163_2024-08-21 08-13_1.webp\n",
      "nan\n",
      "\n",
      "./images/活動/notion/LOgallery38_1826300810323460232_2024-08-21 16-50_1.webp\n",
      "nan\n",
      "\n",
      "./images/活動/notion/LOgallery38_1827661167592149486_2024-08-25 10-55_1.webp\n",
      "nan\n",
      "\n",
      "./images/活動/notion/LOgallery38_1828314028982317386_2024-08-27 06-10_1.webp\n",
      "nan\n",
      "\n",
      "./images/活動/notion/LOgallery38_1828314028982317386_2024-08-27 06-10_2.webp\n",
      "nan\n",
      "\n",
      "./images/活動/notion/LOgallery38_1828314028982317386_2024-08-27 06-10_3.webp\n",
      "nan\n",
      "\n",
      "./images/活動/notion/LOgallery38_1829206380219379860_2024-08-29 17-16_2.webp\n",
      "nan\n",
      "\n",
      "./images/活動/notion/LOgallery38_1831713859478188476_2024-09-05 15-19_1.webp\n",
      "nan\n",
      "\n",
      "./images/活動/notion/LOgallery38_1831716857348550684_2024-09-05 15-31_1.webp\n",
      "nan\n",
      "\n",
      "./images/活動/notion/LOgallery38_1831716857348550684_2024-09-05 15-31_2.webp\n",
      "nan\n",
      "\n",
      "./images/活動/notion/LOgallery38_1831716857348550684_2024-09-05 15-31_3.webp\n",
      "nan\n",
      "\n",
      "./images/活動/notion/lookduay_1829219985044189588_2024-08-29 18-10_1.webp\n",
      "nan\n",
      "\n",
      "./images/活動/notion/orm.kornnaphat_3388110175627341066_2024-06-11 13-57_2.webp\n",
      "nan\n",
      "\n",
      "./images/活動/notion/orm.kornnaphat_3457034531348704181_2024-09-14 16-17_1.webp\n",
      "nan\n",
      "\n",
      "./images/活動/notion/OrmOmelette_CN_5074256217510955_2024-09-02 12-33_2.webp\n",
      "nan\n",
      "\n",
      "./images/活動/notion/PP_0566_1783501314103894164_2024-04-25 14-20_1.webp\n",
      "nan\n",
      "\n",
      "./images/活動/notion/PP_0566_1795467839748313575_2024-05-28 14-51_1.webp\n",
      "nan\n",
      "\n",
      "./images/活動/notion/PP_0566_1806290853193031751_2024-06-27 11-37_1.webp\n",
      "nan\n",
      "\n",
      "./images/活動/notion/PP_0566_1810615609962766547_2024-07-09 10-02_1.webp\n",
      "nan\n",
      "\n",
      "./images/活動/notion/PP_0566_1810629304797331756_2024-07-09 10-57_1.webp\n",
      "nan\n",
      "\n",
      "./images/活動/notion/rayofsunrise_1833860026609582389_2024-09-11 13-27_3.webp\n",
      "nan\n",
      "\n",
      "./images/活動/notion/rayofsunrise_1835659326385430887_2024-09-16 12-37_3.webp\n",
      "nan\n",
      "\n",
      "./images/活動/notion/ShareNlv_1850045765688713727_2024-10-26 05-24_1.webp\n",
      "nan\n",
      "\n",
      "./images/活動/notion/sikonmichel_1824770983946817683_2024-08-17 11-31_3.webp\n",
      "nan\n",
      "\n",
      "./images/活動/notion/SOU_Ch3Official_1819358785833783457_2024-08-02 13-05_1.webp\n",
      "nan\n",
      "\n",
      "./images/活動/notion/SOU_Ch3Official_1819616415080763412_2024-08-03 06-08_1.webp\n",
      "nan\n",
      "\n",
      "./images/活動/notion/SOU_Ch3Official_1819616415080763412_2024-08-03 06-08_2.webp\n",
      "nan\n",
      "\n",
      "./images/活動/notion/teddybear_t9_1798630048855163321_2024-06-06 08-16_1.webp\n",
      "nan\n",
      "\n",
      "./images/活動/notion/thinktoyoon_ty_1846731297248759909_2024-10-17 01-53_1.webp\n",
      "nan\n",
      "\n",
      "./images/活動/notion/totorozzzzz_1820349263521726741_2024-08-05 06-40_1.webp\n",
      "nan\n",
      "\n",
      "./images/活動/notion/totorozzzzz_1820379024926916719_2024-08-05 08-39_2.webp\n",
      "nan\n",
      "\n",
      "./images/活動/notion/totorozzzzz_1821697902571655622_2024-08-09 00-00_1.webp\n",
      "nan\n",
      "\n",
      "./images/活動/notion/totorozzzzz_1824710626217955419_2024-08-17 07-31_1.webp\n",
      "nan\n",
      "\n",
      "./images/活動/notion/totorozzzzz_1824750859235795044_2024-08-17 10-11_2.webp\n",
      "nan\n",
      "\n",
      "./images/活動/notion/totoroZzZzz_1832660425768333631_2024-09-08 06-01_2.webp\n",
      "nan\n",
      "\n",
      "./images/活動/notion/totoroZzZzz_1832733781775773962_2024-09-08 10-52_1.webp\n",
      "nan\n",
      "\n",
      "./images/活動/notion/totoroZzZzz_1832733781775773962_2024-09-08 10-52_2.webp\n",
      "nan\n",
      "\n",
      "./images/活動/notion/totoroZzZzz_1832752142479970374_2024-09-08 12-05_1.webp\n",
      "nan\n",
      "\n",
      "./images/活動/notion/totoroZzZzz_1832851418606395898_2024-09-08 18-40_1.webp\n",
      "nan\n",
      "\n",
      "./images/活動/notion/totoroZzZzz_1833106816517218647_2024-09-09 11-34_2.webp\n",
      "nan\n",
      "\n",
      "./images/活動/notion/yangbuleeeee_1837691105443565676_2024-09-22 03-11_3.webp\n",
      "nan\n",
      "\n",
      "./images/活動/notion/yangbuleeeee_1837691105443565676_2024-09-22 03-11_4.webp\n",
      "nan\n",
      "\n",
      "./images/活動/notion/_sPoundK__1819580031380725889_2024-08-03 03-44_1.webp\n",
      "nan\n",
      "\n",
      "./images/活動/notion/_sPoundK__1819580031380725889_2024-08-03 03-44_2.webp\n",
      "nan\n",
      "\n"
     ]
    }
   ],
   "source": [
    "n=0\n",
    "for _, row in df_all.iterrows():\n",
    "    try:\n",
    "        source = row['full_path']\n",
    "        destination = row['new_path']\n",
    "        os.makedirs(os.path.dirname(destination), exist_ok=True)\n",
    "        shutil.move(source, destination)\n",
    "    except:\n",
    "        n+=1\n",
    "        source = row['full_path']\n",
    "        print(source)\n",
    "        print(destination)\n",
    "        print()\n",
    "        # os.makedirs(os.path.dirname(destination), exist_ok=True)\n",
    "        # shutil.copy(source, destination)"
   ]
  },
  {
   "cell_type": "code",
   "execution_count": 50,
   "metadata": {},
   "outputs": [
    {
     "data": {
      "text/plain": [
       "96"
      ]
     },
     "execution_count": 50,
     "metadata": {},
     "output_type": "execute_result"
    }
   ],
   "source": [
    "n"
   ]
  },
  {
   "cell_type": "code",
   "execution_count": null,
   "metadata": {},
   "outputs": [],
   "source": []
  }
 ],
 "metadata": {
  "kernelspec": {
   "display_name": "Python 3",
   "language": "python",
   "name": "python3"
  },
  "language_info": {
   "codemirror_mode": {
    "name": "ipython",
    "version": 3
   },
   "file_extension": ".py",
   "mimetype": "text/x-python",
   "name": "python",
   "nbconvert_exporter": "python",
   "pygments_lexer": "ipython3",
   "version": "3.9.10"
  },
  "orig_nbformat": 4
 },
 "nbformat": 4,
 "nbformat_minor": 2
}
