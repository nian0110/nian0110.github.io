{
 "cells": [
  {
   "cell_type": "code",
   "execution_count": 1,
   "metadata": {},
   "outputs": [],
   "source": [
    "import pandas as pd\n",
    "import os\n",
    "import shutil"
   ]
  },
  {
   "cell_type": "code",
   "execution_count": 2,
   "metadata": {},
   "outputs": [],
   "source": [
    "def list_all_folders(directory):\n",
    "    try:\n",
    "        # 使用 os.listdir 遍歷目錄\n",
    "        folders = [name.replace('\\\\', '/') for name in os.listdir(directory) if os.path.isdir(os.path.join(directory, name))]\n",
    "        return folders\n",
    "    except Exception as e:\n",
    "        print(f\"發生錯誤：{e}\")\n",
    "        return []"
   ]
  },
  {
   "cell_type": "code",
   "execution_count": 3,
   "metadata": {},
   "outputs": [],
   "source": [
    "def find_jpg_files(root_folder, foldername):\n",
    "    df = pd.DataFrame()\n",
    "\n",
    "    # 遍历目录\n",
    "    folder = os.path.join(root_folder, foldername).replace('\\\\', '/')\n",
    "    file_list = []\n",
    "    for dirpath, _, filenames in os.walk(folder):\n",
    "        for filename in filenames:\n",
    "            if filename.lower().endswith('.webp'):\n",
    "                full_path = os.path.join(dirpath, filename)\n",
    "                file_list.append({'filename': filename, 'full_path': full_path, 'foldername':foldername})\n",
    "    tmp_df = pd.DataFrame(file_list, columns=['filename', 'full_path', 'foldername'])\n",
    "    df = pd.concat([df, tmp_df])\n",
    "    print('')\n",
    "    print(f'{foldername}: {tmp_df.shape}')\n",
    "\n",
    "    df['full_path'] = df['full_path'].apply(lambda x: x.replace('\\\\', '/'))\n",
    "    return df"
   ]
  },
  {
   "cell_type": "code",
   "execution_count": 4,
   "metadata": {},
   "outputs": [],
   "source": [
    "def delete_file(files, path):\n",
    "    file_list = files.strip().splitlines()\n",
    "    success_count = 0\n",
    "    failure_count = 0\n",
    "    failed_files = []\n",
    "\n",
    "    # 搜尋目錄中所有的檔案\n",
    "    file_paths = []\n",
    "    for root, _, filenames in os.walk(path):\n",
    "        for filename in filenames:\n",
    "            if filename in file_list:\n",
    "                file_paths.append(os.path.join(root, filename))\n",
    "\n",
    "    # 刪除檔案\n",
    "    for full_path in file_paths:\n",
    "        try:\n",
    "            os.remove(full_path)\n",
    "            success_count += 1\n",
    "        except Exception as e:\n",
    "            failure_count += 1\n",
    "            failed_files.append((full_path, str(e)))\n",
    "\n",
    "    print(f\"成功刪除 {success_count} 個檔案\")\n",
    "    print(f\"刪除失敗 {failure_count} 個檔案\")\n",
    "    if failed_files:\n",
    "        print(\"失敗檔案列表：\")\n",
    "        for failed_file, error in failed_files:\n",
    "            print(f\"- {failed_file}: {error}\")"
   ]
  },
  {
   "cell_type": "code",
   "execution_count": 5,
   "metadata": {},
   "outputs": [],
   "source": [
    "def data_to_csv(df):\n",
    "    output_dir = './data/test'\n",
    "    os.makedirs(output_dir, exist_ok=True)  # 確保輸出目錄存在\n",
    "\n",
    "    for folder in df['foldername'].unique():\n",
    "        df_tmp = df[df['foldername'] == folder]\n",
    "        # 按檔名排序（忽略大小寫）\n",
    "        df_tmp = df_tmp.sort_values('filename', key=lambda x: x.str.lower()).reset_index(drop=True)\n",
    "\n",
    "        # 計算總批次數\n",
    "        batch_size = 200\n",
    "        num_batches = (len(df_tmp) + batch_size - 1) // batch_size\n",
    "\n",
    "        for batch_idx in range(num_batches):\n",
    "            start = batch_idx * batch_size\n",
    "            end = start + batch_size\n",
    "            batch_df = df_tmp.iloc[start:end]\n",
    "            \n",
    "            # 檔名格式：folder_1.csv、folder_2.csv...\n",
    "            output_file = os.path.join(output_dir, f'{folder}_{batch_idx + 1}.csv')\n",
    "            batch_df.to_csv(output_file, index=False)\n",
    "            print(f'{output_file}:{batch_df.shape[0]}')"
   ]
  },
  {
   "cell_type": "code",
   "execution_count": 10,
   "metadata": {},
   "outputs": [],
   "source": [
    "def delete_files_except(csv_path, images_folder):\n",
    "    try:\n",
    "        # 讀取 CSV 文件，假設沒有標題列\n",
    "        files_to_keep = pd.read_csv(csv_path, header=None)[0].tolist()\n",
    "        \n",
    "        # 計數器\n",
    "        deleted_count = 0\n",
    "        kept_count = 0\n",
    "        \n",
    "        # 遍歷資料夾中的所有檔案\n",
    "        for filename in os.listdir(images_folder):\n",
    "            if filename.endswith('.webp'):  # 只處理 .webp 檔案\n",
    "                file_path = os.path.join(images_folder, filename)\n",
    "                \n",
    "                if filename in files_to_keep:\n",
    "                    kept_count += 1\n",
    "                    print(f\"保留: {filename}\")\n",
    "                else:\n",
    "                    try:\n",
    "                        os.remove(file_path)\n",
    "                        deleted_count += 1\n",
    "                        print(f\"刪除: {filename}\")\n",
    "                    except Exception as e:\n",
    "                        print(f\"刪除 {filename} 時發生錯誤: {str(e)}\")\n",
    "        \n",
    "        print(f\"\\n處理完成！\")\n",
    "        print(f\"保留的圖片數量: {kept_count}\")\n",
    "        print(f\"刪除的圖片數量: {deleted_count}\")\n",
    "        \n",
    "    except Exception as e:\n",
    "        print(f\"發生錯誤: {str(e)}\")"
   ]
  },
  {
   "attachments": {},
   "cell_type": "markdown",
   "metadata": {},
   "source": [
    "---"
   ]
  },
  {
   "cell_type": "code",
   "execution_count": 66,
   "metadata": {},
   "outputs": [
    {
     "data": {
      "text/plain": [
       "['20240509_LingOrmCh3FanGreet']"
      ]
     },
     "execution_count": 66,
     "metadata": {},
     "output_type": "execute_result"
    }
   ],
   "source": [
    "root_folder = './images/check'\n",
    "foldernames = list_all_folders(root_folder)\n",
    "foldernames"
   ]
  },
  {
   "cell_type": "code",
   "execution_count": 67,
   "metadata": {},
   "outputs": [
    {
     "name": "stdout",
     "output_type": "stream",
     "text": [
      "\n",
      "20240509_LingOrmCh3FanGreet: (199, 3)\n",
      "./data/test\\20240509_LingOrmCh3FanGreet_1.csv:199\n"
     ]
    }
   ],
   "source": [
    "# foldernames = ['check']\n",
    "for foldername in foldernames:\n",
    "    df = find_jpg_files(root_folder, foldername)\n",
    "    data_to_csv(df)"
   ]
  },
  {
   "attachments": {},
   "cell_type": "markdown",
   "metadata": {},
   "source": [
    "### 刪除photo"
   ]
  },
  {
   "cell_type": "code",
   "execution_count": 68,
   "metadata": {},
   "outputs": [],
   "source": [
    "path = './images/check'\n",
    "files = '''\n",
    "bunnytales1221_1789231834712420508_2024-05-11 09-51_1.webp\n",
    "EEgg17559_1788457665699692832_2024-05-09 06-35_1.webp\n",
    "butterflyverse__1788617988708630979_2024-05-09 17-12_4.webp\n",
    "mtaengoo_1789163087347786050_2024-05-11 05-18_4.webp\n",
    "teddybear_t9_1788473243214770663_2024-05-09 07-37_2.webp\n",
    "LOgallery38_1788491102372438017_2024-05-09 08-48_3.webp\n",
    "GladtoseeU_1127_1789978243203825909_2024-05-13 11-17_1.webp\n",
    "LOgallery38_1788721448422711336_2024-05-10 00-03_1.webp\n",
    "LOgallery38_1788722609154335010_2024-05-10 00-07_4.webp\n",
    "Abears19_1788541517227069717_2024-05-09 12-08_2.webp\n",
    "GladtoseeU_1127_1789979161034924097_2024-05-13 11-21_1.webp\n",
    "mtaengoo_1788512149087858699_2024-05-09 10-11_3.webp\n",
    "mtaengoo_1790596626303852724_2024-05-15 04-14_2.webp\n",
    "ormstagram_1789950434880155915_2024-05-13 09-26_3.webp\n",
    "rushhour39_1788512527623819443_2024-05-09 10-13_2.webp\n",
    "LOgallery38_1788722609154335010_2024-05-10 00-07_2.webp\n",
    "mtaengoo_1830788409662808397_2024-09-03 02-02_1.webp\n",
    "bunnytales1221_1789148583578755101_2024-05-11 04-20_2.webp\n",
    "LOgallery38_1788550590743876046_2024-05-09 12-44_1.webp\n",
    "rushhour39_1788469367547830319_2024-05-09 07-21_4.webp\n",
    "Abears19_1788554453035176162_2024-05-09 12-59_2.webp\n",
    "ormstagram_1789950434880155915_2024-05-13 09-26_2.webp\n",
    "LOgallery38_1788470811327877593_2024-05-09 07-27_3.webp\n",
    "bunnytales1221_1807621957946581348_2024-07-01 03-47_1.webp\n",
    "_mars09__1788504590272577801_2024-05-09 09-41_3.webp\n",
    "butterflyverse__1790186369165513117_2024-05-14 01-04_1.webp\n",
    "'''"
   ]
  },
  {
   "cell_type": "code",
   "execution_count": 69,
   "metadata": {},
   "outputs": [
    {
     "name": "stdout",
     "output_type": "stream",
     "text": [
      "成功刪除 26 個檔案\n",
      "刪除失敗 0 個檔案\n"
     ]
    }
   ],
   "source": [
    "delete_file(files, path)"
   ]
  },
  {
   "cell_type": "markdown",
   "metadata": {},
   "source": [
    "### 保留photo"
   ]
  },
  {
   "cell_type": "code",
   "execution_count": 11,
   "metadata": {},
   "outputs": [
    {
     "name": "stdout",
     "output_type": "stream",
     "text": [
      "刪除: linglingkwong_2207453439323920565_2019-12-26 14-02_1.webp\n",
      "保留: linglingkwong_2212199552031650398_2020-01-02 03-12_1.webp\n",
      "保留: linglingkwong_2265145626769354018_2020-03-15 04-27_1.webp\n",
      "刪除: linglingkwong_2311425267079246523_2020-05-18 00-56_1.webp\n",
      "刪除: linglingkwong_2311425267079246523_2020-05-18 00-56_2.webp\n",
      "\n",
      "處理完成！\n",
      "保留的圖片數量: 2\n",
      "刪除的圖片數量: 3\n"
     ]
    }
   ],
   "source": [
    "delete_files_except('files_to_preserve.csv', './images/check/test')"
   ]
  },
  {
   "cell_type": "markdown",
   "metadata": {},
   "source": [
    "---"
   ]
  },
  {
   "cell_type": "code",
   "execution_count": 2,
   "metadata": {},
   "outputs": [],
   "source": [
    "df_no_dup = pd.read_excel('photo_data.xlsx')\n",
    "df_no_dup['filename'] = df_no_dup['filename'].apply(lambda x:x.replace('.jpg', '.webp'))\n",
    "df_no_dup = df_no_dup[(df_no_dup['root_path']=='雜誌') | (df_no_dup['root_path']=='拍攝')]\n",
    "df2 = pd.read_csv('./data/images_活動.csv')"
   ]
  },
  {
   "cell_type": "code",
   "execution_count": 3,
   "metadata": {},
   "outputs": [
    {
     "data": {
      "text/plain": [
       "(1229, 10)"
      ]
     },
     "execution_count": 3,
     "metadata": {},
     "output_type": "execute_result"
    }
   ],
   "source": [
    "df_no_dup.shape"
   ]
  },
  {
   "cell_type": "code",
   "execution_count": 4,
   "metadata": {},
   "outputs": [
    {
     "data": {
      "text/plain": [
       "root_path\n",
       "雜誌    617\n",
       "拍攝    612\n",
       "Name: count, dtype: int64"
      ]
     },
     "execution_count": 4,
     "metadata": {},
     "output_type": "execute_result"
    }
   ],
   "source": [
    "df_no_dup.root_path.value_counts()"
   ]
  },
  {
   "cell_type": "code",
   "execution_count": 5,
   "metadata": {},
   "outputs": [
    {
     "data": {
      "text/plain": [
       "(5523, 2)"
      ]
     },
     "execution_count": 5,
     "metadata": {},
     "output_type": "execute_result"
    }
   ],
   "source": [
    "df2.shape"
   ]
  },
  {
   "cell_type": "code",
   "execution_count": 6,
   "metadata": {},
   "outputs": [
    {
     "data": {
      "text/html": [
       "<div>\n",
       "<style scoped>\n",
       "    .dataframe tbody tr th:only-of-type {\n",
       "        vertical-align: middle;\n",
       "    }\n",
       "\n",
       "    .dataframe tbody tr th {\n",
       "        vertical-align: top;\n",
       "    }\n",
       "\n",
       "    .dataframe thead th {\n",
       "        text-align: right;\n",
       "    }\n",
       "</style>\n",
       "<table border=\"1\" class=\"dataframe\">\n",
       "  <thead>\n",
       "    <tr style=\"text-align: right;\">\n",
       "      <th></th>\n",
       "      <th>filename</th>\n",
       "      <th>full_path</th>\n",
       "    </tr>\n",
       "  </thead>\n",
       "  <tbody>\n",
       "    <tr>\n",
       "      <th>0</th>\n",
       "      <td>muimui_za_1831621706043289845_2024-09-05 09-13...</td>\n",
       "      <td>./images/活動/activity/20231101_試鏡/muimui_za_183...</td>\n",
       "    </tr>\n",
       "    <tr>\n",
       "      <th>1</th>\n",
       "      <td>muimui_za_1831621706043289845_2024-09-05 09-13...</td>\n",
       "      <td>./images/活動/activity/20231101_試鏡/muimui_za_183...</td>\n",
       "    </tr>\n",
       "  </tbody>\n",
       "</table>\n",
       "</div>"
      ],
      "text/plain": [
       "                                            filename  \\\n",
       "0  muimui_za_1831621706043289845_2024-09-05 09-13...   \n",
       "1  muimui_za_1831621706043289845_2024-09-05 09-13...   \n",
       "\n",
       "                                           full_path  \n",
       "0  ./images/活動/activity/20231101_試鏡/muimui_za_183...  \n",
       "1  ./images/活動/activity/20231101_試鏡/muimui_za_183...  "
      ]
     },
     "execution_count": 6,
     "metadata": {},
     "output_type": "execute_result"
    }
   ],
   "source": [
    "df2.head(2)"
   ]
  },
  {
   "cell_type": "code",
   "execution_count": 7,
   "metadata": {},
   "outputs": [
    {
     "data": {
      "text/html": [
       "<div>\n",
       "<style scoped>\n",
       "    .dataframe tbody tr th:only-of-type {\n",
       "        vertical-align: middle;\n",
       "    }\n",
       "\n",
       "    .dataframe tbody tr th {\n",
       "        vertical-align: top;\n",
       "    }\n",
       "\n",
       "    .dataframe thead th {\n",
       "        text-align: right;\n",
       "    }\n",
       "</style>\n",
       "<table border=\"1\" class=\"dataframe\">\n",
       "  <thead>\n",
       "    <tr style=\"text-align: right;\">\n",
       "      <th></th>\n",
       "      <th>filename</th>\n",
       "      <th>full_path</th>\n",
       "      <th>username</th>\n",
       "      <th>relative_path</th>\n",
       "      <th>file_date</th>\n",
       "      <th>file_size</th>\n",
       "      <th>extension</th>\n",
       "      <th>root_path</th>\n",
       "      <th>children_path</th>\n",
       "      <th>month_path</th>\n",
       "    </tr>\n",
       "  </thead>\n",
       "  <tbody>\n",
       "    <tr>\n",
       "      <th>2850</th>\n",
       "      <td>cocochicwedding_3485939477002385180_2024-10-24...</td>\n",
       "      <td>/Users/linnianyi/Library/CloudStorage/GoogleDr...</td>\n",
       "      <td>cocochicwedding</td>\n",
       "      <td>/雜誌/Bride雜誌</td>\n",
       "      <td>2024-10-24</td>\n",
       "      <td>706477</td>\n",
       "      <td>jpg</td>\n",
       "      <td>雜誌</td>\n",
       "      <td>Bride雜誌</td>\n",
       "      <td>NaN</td>\n",
       "    </tr>\n",
       "    <tr>\n",
       "      <th>2851</th>\n",
       "      <td>PP_0566_1819186007704850790_2024-08-02 01-38_1...</td>\n",
       "      <td>/Users/linnianyi/Library/CloudStorage/GoogleDr...</td>\n",
       "      <td>PP_0566</td>\n",
       "      <td>/雜誌/Bride雜誌</td>\n",
       "      <td>2024-08-02</td>\n",
       "      <td>405683</td>\n",
       "      <td>jpg</td>\n",
       "      <td>雜誌</td>\n",
       "      <td>Bride雜誌</td>\n",
       "      <td>NaN</td>\n",
       "    </tr>\n",
       "  </tbody>\n",
       "</table>\n",
       "</div>"
      ],
      "text/plain": [
       "                                               filename  \\\n",
       "2850  cocochicwedding_3485939477002385180_2024-10-24...   \n",
       "2851  PP_0566_1819186007704850790_2024-08-02 01-38_1...   \n",
       "\n",
       "                                              full_path         username  \\\n",
       "2850  /Users/linnianyi/Library/CloudStorage/GoogleDr...  cocochicwedding   \n",
       "2851  /Users/linnianyi/Library/CloudStorage/GoogleDr...          PP_0566   \n",
       "\n",
       "     relative_path  file_date  file_size extension root_path children_path  \\\n",
       "2850   /雜誌/Bride雜誌 2024-10-24     706477       jpg        雜誌       Bride雜誌   \n",
       "2851   /雜誌/Bride雜誌 2024-08-02     405683       jpg        雜誌       Bride雜誌   \n",
       "\n",
       "      month_path  \n",
       "2850         NaN  \n",
       "2851         NaN  "
      ]
     },
     "execution_count": 7,
     "metadata": {},
     "output_type": "execute_result"
    }
   ],
   "source": [
    "df_no_dup.head(2)"
   ]
  },
  {
   "cell_type": "code",
   "execution_count": 8,
   "metadata": {},
   "outputs": [],
   "source": [
    "df_no_dup1 = df_no_dup[['filename', 'root_path']]"
   ]
  },
  {
   "cell_type": "code",
   "execution_count": 9,
   "metadata": {},
   "outputs": [
    {
     "data": {
      "text/html": [
       "<div>\n",
       "<style scoped>\n",
       "    .dataframe tbody tr th:only-of-type {\n",
       "        vertical-align: middle;\n",
       "    }\n",
       "\n",
       "    .dataframe tbody tr th {\n",
       "        vertical-align: top;\n",
       "    }\n",
       "\n",
       "    .dataframe thead th {\n",
       "        text-align: right;\n",
       "    }\n",
       "</style>\n",
       "<table border=\"1\" class=\"dataframe\">\n",
       "  <thead>\n",
       "    <tr style=\"text-align: right;\">\n",
       "      <th></th>\n",
       "      <th>filename</th>\n",
       "      <th>root_path</th>\n",
       "    </tr>\n",
       "  </thead>\n",
       "  <tbody>\n",
       "    <tr>\n",
       "      <th>2850</th>\n",
       "      <td>cocochicwedding_3485939477002385180_2024-10-24...</td>\n",
       "      <td>雜誌</td>\n",
       "    </tr>\n",
       "    <tr>\n",
       "      <th>2851</th>\n",
       "      <td>PP_0566_1819186007704850790_2024-08-02 01-38_1...</td>\n",
       "      <td>雜誌</td>\n",
       "    </tr>\n",
       "  </tbody>\n",
       "</table>\n",
       "</div>"
      ],
      "text/plain": [
       "                                               filename root_path\n",
       "2850  cocochicwedding_3485939477002385180_2024-10-24...        雜誌\n",
       "2851  PP_0566_1819186007704850790_2024-08-02 01-38_1...        雜誌"
      ]
     },
     "execution_count": 9,
     "metadata": {},
     "output_type": "execute_result"
    }
   ],
   "source": [
    "df_no_dup1.head(2)"
   ]
  },
  {
   "cell_type": "code",
   "execution_count": 10,
   "metadata": {},
   "outputs": [],
   "source": [
    "df2 = df2.merge(df_no_dup1, on='filename', how='left')"
   ]
  },
  {
   "cell_type": "code",
   "execution_count": 11,
   "metadata": {},
   "outputs": [
    {
     "data": {
      "text/plain": [
       "(5523, 3)"
      ]
     },
     "execution_count": 11,
     "metadata": {},
     "output_type": "execute_result"
    }
   ],
   "source": [
    "df2.shape"
   ]
  },
  {
   "cell_type": "code",
   "execution_count": 12,
   "metadata": {},
   "outputs": [
    {
     "data": {
      "text/html": [
       "<div>\n",
       "<style scoped>\n",
       "    .dataframe tbody tr th:only-of-type {\n",
       "        vertical-align: middle;\n",
       "    }\n",
       "\n",
       "    .dataframe tbody tr th {\n",
       "        vertical-align: top;\n",
       "    }\n",
       "\n",
       "    .dataframe thead th {\n",
       "        text-align: right;\n",
       "    }\n",
       "</style>\n",
       "<table border=\"1\" class=\"dataframe\">\n",
       "  <thead>\n",
       "    <tr style=\"text-align: right;\">\n",
       "      <th></th>\n",
       "      <th>filename</th>\n",
       "      <th>full_path</th>\n",
       "      <th>root_path</th>\n",
       "    </tr>\n",
       "  </thead>\n",
       "  <tbody>\n",
       "    <tr>\n",
       "      <th>0</th>\n",
       "      <td>muimui_za_1831621706043289845_2024-09-05 09-13...</td>\n",
       "      <td>./images/活動/activity/20231101_試鏡/muimui_za_183...</td>\n",
       "      <td>NaN</td>\n",
       "    </tr>\n",
       "    <tr>\n",
       "      <th>1</th>\n",
       "      <td>muimui_za_1831621706043289845_2024-09-05 09-13...</td>\n",
       "      <td>./images/活動/activity/20231101_試鏡/muimui_za_183...</td>\n",
       "      <td>NaN</td>\n",
       "    </tr>\n",
       "    <tr>\n",
       "      <th>2</th>\n",
       "      <td>muimui_za_1831621706043289845_2024-09-05 09-13...</td>\n",
       "      <td>./images/活動/activity/20231101_試鏡/muimui_za_183...</td>\n",
       "      <td>NaN</td>\n",
       "    </tr>\n",
       "    <tr>\n",
       "      <th>3</th>\n",
       "      <td>muimui_za_1831621706043289845_2024-09-05 09-13...</td>\n",
       "      <td>./images/活動/activity/20231101_試鏡/muimui_za_183...</td>\n",
       "      <td>NaN</td>\n",
       "    </tr>\n",
       "    <tr>\n",
       "      <th>4</th>\n",
       "      <td>muimui_za_1831900664223674858_2024-09-06 03-42...</td>\n",
       "      <td>./images/活動/activity/20231101_試鏡/muimui_za_183...</td>\n",
       "      <td>NaN</td>\n",
       "    </tr>\n",
       "  </tbody>\n",
       "</table>\n",
       "</div>"
      ],
      "text/plain": [
       "                                            filename  \\\n",
       "0  muimui_za_1831621706043289845_2024-09-05 09-13...   \n",
       "1  muimui_za_1831621706043289845_2024-09-05 09-13...   \n",
       "2  muimui_za_1831621706043289845_2024-09-05 09-13...   \n",
       "3  muimui_za_1831621706043289845_2024-09-05 09-13...   \n",
       "4  muimui_za_1831900664223674858_2024-09-06 03-42...   \n",
       "\n",
       "                                           full_path root_path  \n",
       "0  ./images/活動/activity/20231101_試鏡/muimui_za_183...       NaN  \n",
       "1  ./images/活動/activity/20231101_試鏡/muimui_za_183...       NaN  \n",
       "2  ./images/活動/activity/20231101_試鏡/muimui_za_183...       NaN  \n",
       "3  ./images/活動/activity/20231101_試鏡/muimui_za_183...       NaN  \n",
       "4  ./images/活動/activity/20231101_試鏡/muimui_za_183...       NaN  "
      ]
     },
     "execution_count": 12,
     "metadata": {},
     "output_type": "execute_result"
    }
   ],
   "source": [
    "df2.head()"
   ]
  },
  {
   "cell_type": "code",
   "execution_count": 13,
   "metadata": {},
   "outputs": [
    {
     "data": {
      "text/plain": [
       "root_path\n",
       "拍攝    25\n",
       "Name: count, dtype: int64"
      ]
     },
     "execution_count": 13,
     "metadata": {},
     "output_type": "execute_result"
    }
   ],
   "source": [
    "df2['root_path'].value_counts()"
   ]
  },
  {
   "cell_type": "code",
   "execution_count": 18,
   "metadata": {},
   "outputs": [],
   "source": [
    "aa = df2[df2['root_path']=='拍攝']"
   ]
  },
  {
   "cell_type": "code",
   "execution_count": 19,
   "metadata": {},
   "outputs": [
    {
     "data": {
      "text/html": [
       "<div>\n",
       "<style scoped>\n",
       "    .dataframe tbody tr th:only-of-type {\n",
       "        vertical-align: middle;\n",
       "    }\n",
       "\n",
       "    .dataframe tbody tr th {\n",
       "        vertical-align: top;\n",
       "    }\n",
       "\n",
       "    .dataframe thead th {\n",
       "        text-align: right;\n",
       "    }\n",
       "</style>\n",
       "<table border=\"1\" class=\"dataframe\">\n",
       "  <thead>\n",
       "    <tr style=\"text-align: right;\">\n",
       "      <th></th>\n",
       "      <th>filename</th>\n",
       "      <th>full_path</th>\n",
       "      <th>root_path</th>\n",
       "    </tr>\n",
       "  </thead>\n",
       "  <tbody>\n",
       "    <tr>\n",
       "      <th>888</th>\n",
       "      <td>fabrique.co_3451107824765875200_2024-09-06 12-...</td>\n",
       "      <td>./images/活動/notion/fabrique.co_345110782476587...</td>\n",
       "      <td>拍攝</td>\n",
       "    </tr>\n",
       "    <tr>\n",
       "      <th>889</th>\n",
       "      <td>fabrique.co_3451107824765875200_2024-09-06 12-...</td>\n",
       "      <td>./images/活動/notion/fabrique.co_345110782476587...</td>\n",
       "      <td>拍攝</td>\n",
       "    </tr>\n",
       "    <tr>\n",
       "      <th>890</th>\n",
       "      <td>fabrique.co_3451107824765875200_2024-09-06 12-...</td>\n",
       "      <td>./images/活動/notion/fabrique.co_345110782476587...</td>\n",
       "      <td>拍攝</td>\n",
       "    </tr>\n",
       "    <tr>\n",
       "      <th>891</th>\n",
       "      <td>fabrique.co_3451107824765875200_2024-09-06 12-...</td>\n",
       "      <td>./images/活動/notion/fabrique.co_345110782476587...</td>\n",
       "      <td>拍攝</td>\n",
       "    </tr>\n",
       "    <tr>\n",
       "      <th>892</th>\n",
       "      <td>fabrique.co_3451107824765875200_2024-09-06 12-...</td>\n",
       "      <td>./images/活動/notion/fabrique.co_345110782476587...</td>\n",
       "      <td>拍攝</td>\n",
       "    </tr>\n",
       "  </tbody>\n",
       "</table>\n",
       "</div>"
      ],
      "text/plain": [
       "                                              filename  \\\n",
       "888  fabrique.co_3451107824765875200_2024-09-06 12-...   \n",
       "889  fabrique.co_3451107824765875200_2024-09-06 12-...   \n",
       "890  fabrique.co_3451107824765875200_2024-09-06 12-...   \n",
       "891  fabrique.co_3451107824765875200_2024-09-06 12-...   \n",
       "892  fabrique.co_3451107824765875200_2024-09-06 12-...   \n",
       "\n",
       "                                             full_path root_path  \n",
       "888  ./images/活動/notion/fabrique.co_345110782476587...        拍攝  \n",
       "889  ./images/活動/notion/fabrique.co_345110782476587...        拍攝  \n",
       "890  ./images/活動/notion/fabrique.co_345110782476587...        拍攝  \n",
       "891  ./images/活動/notion/fabrique.co_345110782476587...        拍攝  \n",
       "892  ./images/活動/notion/fabrique.co_345110782476587...        拍攝  "
      ]
     },
     "execution_count": 19,
     "metadata": {},
     "output_type": "execute_result"
    }
   ],
   "source": [
    "aa.head()"
   ]
  },
  {
   "cell_type": "code",
   "execution_count": 20,
   "metadata": {},
   "outputs": [
    {
     "data": {
      "text/html": [
       "<div>\n",
       "<style scoped>\n",
       "    .dataframe tbody tr th:only-of-type {\n",
       "        vertical-align: middle;\n",
       "    }\n",
       "\n",
       "    .dataframe tbody tr th {\n",
       "        vertical-align: top;\n",
       "    }\n",
       "\n",
       "    .dataframe thead th {\n",
       "        text-align: right;\n",
       "    }\n",
       "</style>\n",
       "<table border=\"1\" class=\"dataframe\">\n",
       "  <thead>\n",
       "    <tr style=\"text-align: right;\">\n",
       "      <th></th>\n",
       "      <th>filename</th>\n",
       "      <th>full_path</th>\n",
       "      <th>root_path</th>\n",
       "    </tr>\n",
       "  </thead>\n",
       "  <tbody>\n",
       "    <tr>\n",
       "      <th>888</th>\n",
       "      <td>fabrique.co_3451107824765875200_2024-09-06 12-...</td>\n",
       "      <td>./images/活動/notion/fabrique.co_345110782476587...</td>\n",
       "      <td>拍攝</td>\n",
       "    </tr>\n",
       "    <tr>\n",
       "      <th>889</th>\n",
       "      <td>fabrique.co_3451107824765875200_2024-09-06 12-...</td>\n",
       "      <td>./images/活動/notion/fabrique.co_345110782476587...</td>\n",
       "      <td>拍攝</td>\n",
       "    </tr>\n",
       "    <tr>\n",
       "      <th>890</th>\n",
       "      <td>fabrique.co_3451107824765875200_2024-09-06 12-...</td>\n",
       "      <td>./images/活動/notion/fabrique.co_345110782476587...</td>\n",
       "      <td>拍攝</td>\n",
       "    </tr>\n",
       "    <tr>\n",
       "      <th>891</th>\n",
       "      <td>fabrique.co_3451107824765875200_2024-09-06 12-...</td>\n",
       "      <td>./images/活動/notion/fabrique.co_345110782476587...</td>\n",
       "      <td>拍攝</td>\n",
       "    </tr>\n",
       "    <tr>\n",
       "      <th>892</th>\n",
       "      <td>fabrique.co_3451107824765875200_2024-09-06 12-...</td>\n",
       "      <td>./images/活動/notion/fabrique.co_345110782476587...</td>\n",
       "      <td>拍攝</td>\n",
       "    </tr>\n",
       "    <tr>\n",
       "      <th>893</th>\n",
       "      <td>fabrique.co_3451107824765875200_2024-09-06 12-...</td>\n",
       "      <td>./images/活動/notion/fabrique.co_345110782476587...</td>\n",
       "      <td>拍攝</td>\n",
       "    </tr>\n",
       "    <tr>\n",
       "      <th>1989</th>\n",
       "      <td>monday_21_5075378859416603_2024-09-05 14-54_2....</td>\n",
       "      <td>./images/活動/notion/monday_21_5075378859416603_...</td>\n",
       "      <td>拍攝</td>\n",
       "    </tr>\n",
       "    <tr>\n",
       "      <th>1990</th>\n",
       "      <td>monday_21_5075378859416603_2024-09-05 14-54_4....</td>\n",
       "      <td>./images/活動/notion/monday_21_5075378859416603_...</td>\n",
       "      <td>拍攝</td>\n",
       "    </tr>\n",
       "    <tr>\n",
       "      <th>2213</th>\n",
       "      <td>orm.kornnaphat_3447105999466233263_2024-08-31 ...</td>\n",
       "      <td>./images/活動/notion/orm.kornnaphat_344710599946...</td>\n",
       "      <td>拍攝</td>\n",
       "    </tr>\n",
       "    <tr>\n",
       "      <th>2214</th>\n",
       "      <td>orm.kornnaphat_3449685543620646636_2024-09-04 ...</td>\n",
       "      <td>./images/活動/notion/orm.kornnaphat_344968554362...</td>\n",
       "      <td>拍攝</td>\n",
       "    </tr>\n",
       "    <tr>\n",
       "      <th>2215</th>\n",
       "      <td>orm.kornnaphat_3449685543620646636_2024-09-04 ...</td>\n",
       "      <td>./images/活動/notion/orm.kornnaphat_344968554362...</td>\n",
       "      <td>拍攝</td>\n",
       "    </tr>\n",
       "    <tr>\n",
       "      <th>2216</th>\n",
       "      <td>orm.kornnaphat_3449685543620646636_2024-09-04 ...</td>\n",
       "      <td>./images/活動/notion/orm.kornnaphat_344968554362...</td>\n",
       "      <td>拍攝</td>\n",
       "    </tr>\n",
       "    <tr>\n",
       "      <th>2217</th>\n",
       "      <td>orm.kornnaphat_3449685543620646636_2024-09-04 ...</td>\n",
       "      <td>./images/活動/notion/orm.kornnaphat_344968554362...</td>\n",
       "      <td>拍攝</td>\n",
       "    </tr>\n",
       "    <tr>\n",
       "      <th>2218</th>\n",
       "      <td>orm.kornnaphat_3450362565355241685_2024-09-05 ...</td>\n",
       "      <td>./images/活動/notion/orm.kornnaphat_345036256535...</td>\n",
       "      <td>拍攝</td>\n",
       "    </tr>\n",
       "    <tr>\n",
       "      <th>2219</th>\n",
       "      <td>orm.kornnaphat_3450362565355241685_2024-09-05 ...</td>\n",
       "      <td>./images/活動/notion/orm.kornnaphat_345036256535...</td>\n",
       "      <td>拍攝</td>\n",
       "    </tr>\n",
       "    <tr>\n",
       "      <th>2220</th>\n",
       "      <td>orm.kornnaphat_3450362565355241685_2024-09-05 ...</td>\n",
       "      <td>./images/活動/notion/orm.kornnaphat_345036256535...</td>\n",
       "      <td>拍攝</td>\n",
       "    </tr>\n",
       "    <tr>\n",
       "      <th>2221</th>\n",
       "      <td>orm.kornnaphat_3450362565355241685_2024-09-05 ...</td>\n",
       "      <td>./images/活動/notion/orm.kornnaphat_345036256535...</td>\n",
       "      <td>拍攝</td>\n",
       "    </tr>\n",
       "    <tr>\n",
       "      <th>2222</th>\n",
       "      <td>orm.kornnaphat_3450362565355241685_2024-09-05 ...</td>\n",
       "      <td>./images/活動/notion/orm.kornnaphat_345036256535...</td>\n",
       "      <td>拍攝</td>\n",
       "    </tr>\n",
       "    <tr>\n",
       "      <th>2236</th>\n",
       "      <td>ormkornway_1831756470037442841_2024-09-05 18-0...</td>\n",
       "      <td>./images/活動/notion/ormkornway_1831756470037442...</td>\n",
       "      <td>拍攝</td>\n",
       "    </tr>\n",
       "    <tr>\n",
       "      <th>2237</th>\n",
       "      <td>ormkornway_1831756470037442841_2024-09-05 18-0...</td>\n",
       "      <td>./images/活動/notion/ormkornway_1831756470037442...</td>\n",
       "      <td>拍攝</td>\n",
       "    </tr>\n",
       "    <tr>\n",
       "      <th>2238</th>\n",
       "      <td>ormkornway_1831756470037442841_2024-09-05 18-0...</td>\n",
       "      <td>./images/活動/notion/ormkornway_1831756470037442...</td>\n",
       "      <td>拍攝</td>\n",
       "    </tr>\n",
       "    <tr>\n",
       "      <th>2240</th>\n",
       "      <td>ormkornway_1831946086807957685_2024-09-06 06-4...</td>\n",
       "      <td>./images/活動/notion/ormkornway_1831946086807957...</td>\n",
       "      <td>拍攝</td>\n",
       "    </tr>\n",
       "    <tr>\n",
       "      <th>2241</th>\n",
       "      <td>ormkornway_1831946086807957685_2024-09-06 06-4...</td>\n",
       "      <td>./images/活動/notion/ormkornway_1831946086807957...</td>\n",
       "      <td>拍攝</td>\n",
       "    </tr>\n",
       "    <tr>\n",
       "      <th>5236</th>\n",
       "      <td>Koiiz9_1843524855280611419_2024-10-08 05-32_1....</td>\n",
       "      <td>./images/活動/user/Koiiz9/Koiiz9_184352485528061...</td>\n",
       "      <td>拍攝</td>\n",
       "    </tr>\n",
       "    <tr>\n",
       "      <th>5270</th>\n",
       "      <td>Koiiz9_1846100848109408367_2024-10-15 08-08_1....</td>\n",
       "      <td>./images/活動/user/Koiiz9/Koiiz9_184610084810940...</td>\n",
       "      <td>拍攝</td>\n",
       "    </tr>\n",
       "  </tbody>\n",
       "</table>\n",
       "</div>"
      ],
      "text/plain": [
       "                                               filename  \\\n",
       "888   fabrique.co_3451107824765875200_2024-09-06 12-...   \n",
       "889   fabrique.co_3451107824765875200_2024-09-06 12-...   \n",
       "890   fabrique.co_3451107824765875200_2024-09-06 12-...   \n",
       "891   fabrique.co_3451107824765875200_2024-09-06 12-...   \n",
       "892   fabrique.co_3451107824765875200_2024-09-06 12-...   \n",
       "893   fabrique.co_3451107824765875200_2024-09-06 12-...   \n",
       "1989  monday_21_5075378859416603_2024-09-05 14-54_2....   \n",
       "1990  monday_21_5075378859416603_2024-09-05 14-54_4....   \n",
       "2213  orm.kornnaphat_3447105999466233263_2024-08-31 ...   \n",
       "2214  orm.kornnaphat_3449685543620646636_2024-09-04 ...   \n",
       "2215  orm.kornnaphat_3449685543620646636_2024-09-04 ...   \n",
       "2216  orm.kornnaphat_3449685543620646636_2024-09-04 ...   \n",
       "2217  orm.kornnaphat_3449685543620646636_2024-09-04 ...   \n",
       "2218  orm.kornnaphat_3450362565355241685_2024-09-05 ...   \n",
       "2219  orm.kornnaphat_3450362565355241685_2024-09-05 ...   \n",
       "2220  orm.kornnaphat_3450362565355241685_2024-09-05 ...   \n",
       "2221  orm.kornnaphat_3450362565355241685_2024-09-05 ...   \n",
       "2222  orm.kornnaphat_3450362565355241685_2024-09-05 ...   \n",
       "2236  ormkornway_1831756470037442841_2024-09-05 18-0...   \n",
       "2237  ormkornway_1831756470037442841_2024-09-05 18-0...   \n",
       "2238  ormkornway_1831756470037442841_2024-09-05 18-0...   \n",
       "2240  ormkornway_1831946086807957685_2024-09-06 06-4...   \n",
       "2241  ormkornway_1831946086807957685_2024-09-06 06-4...   \n",
       "5236  Koiiz9_1843524855280611419_2024-10-08 05-32_1....   \n",
       "5270  Koiiz9_1846100848109408367_2024-10-15 08-08_1....   \n",
       "\n",
       "                                              full_path root_path  \n",
       "888   ./images/活動/notion/fabrique.co_345110782476587...        拍攝  \n",
       "889   ./images/活動/notion/fabrique.co_345110782476587...        拍攝  \n",
       "890   ./images/活動/notion/fabrique.co_345110782476587...        拍攝  \n",
       "891   ./images/活動/notion/fabrique.co_345110782476587...        拍攝  \n",
       "892   ./images/活動/notion/fabrique.co_345110782476587...        拍攝  \n",
       "893   ./images/活動/notion/fabrique.co_345110782476587...        拍攝  \n",
       "1989  ./images/活動/notion/monday_21_5075378859416603_...        拍攝  \n",
       "1990  ./images/活動/notion/monday_21_5075378859416603_...        拍攝  \n",
       "2213  ./images/活動/notion/orm.kornnaphat_344710599946...        拍攝  \n",
       "2214  ./images/活動/notion/orm.kornnaphat_344968554362...        拍攝  \n",
       "2215  ./images/活動/notion/orm.kornnaphat_344968554362...        拍攝  \n",
       "2216  ./images/活動/notion/orm.kornnaphat_344968554362...        拍攝  \n",
       "2217  ./images/活動/notion/orm.kornnaphat_344968554362...        拍攝  \n",
       "2218  ./images/活動/notion/orm.kornnaphat_345036256535...        拍攝  \n",
       "2219  ./images/活動/notion/orm.kornnaphat_345036256535...        拍攝  \n",
       "2220  ./images/活動/notion/orm.kornnaphat_345036256535...        拍攝  \n",
       "2221  ./images/活動/notion/orm.kornnaphat_345036256535...        拍攝  \n",
       "2222  ./images/活動/notion/orm.kornnaphat_345036256535...        拍攝  \n",
       "2236  ./images/活動/notion/ormkornway_1831756470037442...        拍攝  \n",
       "2237  ./images/活動/notion/ormkornway_1831756470037442...        拍攝  \n",
       "2238  ./images/活動/notion/ormkornway_1831756470037442...        拍攝  \n",
       "2240  ./images/活動/notion/ormkornway_1831946086807957...        拍攝  \n",
       "2241  ./images/活動/notion/ormkornway_1831946086807957...        拍攝  \n",
       "5236  ./images/活動/user/Koiiz9/Koiiz9_184352485528061...        拍攝  \n",
       "5270  ./images/活動/user/Koiiz9/Koiiz9_184610084810940...        拍攝  "
      ]
     },
     "execution_count": 20,
     "metadata": {},
     "output_type": "execute_result"
    }
   ],
   "source": [
    "aa"
   ]
  },
  {
   "cell_type": "code",
   "execution_count": 21,
   "metadata": {},
   "outputs": [
    {
     "data": {
      "text/plain": [
       "(25, 3)"
      ]
     },
     "execution_count": 21,
     "metadata": {},
     "output_type": "execute_result"
    }
   ],
   "source": [
    "aa.shape"
   ]
  },
  {
   "cell_type": "code",
   "execution_count": 22,
   "metadata": {},
   "outputs": [],
   "source": [
    "for index, row in aa.iterrows():\n",
    "    image_path = row['full_path']\n",
    "    try:\n",
    "        shutil.copy(image_path, './del')\n",
    "    except Exception as e:\n",
    "        print(image_path, str(e))"
   ]
  },
  {
   "cell_type": "code",
   "execution_count": 23,
   "metadata": {},
   "outputs": [],
   "source": [
    "success_count = 0\n",
    "failure_count = 0\n",
    "failed_files = []\n",
    "for index, row in aa.iterrows():\n",
    "    image_path = row['full_path']\n",
    "    try:\n",
    "        os.remove(image_path)\n",
    "        success_count += 1\n",
    "    except Exception as e:\n",
    "        failure_count += 1\n",
    "        failed_files.append((image_path, str(e)))"
   ]
  },
  {
   "cell_type": "code",
   "execution_count": 24,
   "metadata": {},
   "outputs": [
    {
     "name": "stdout",
     "output_type": "stream",
     "text": [
      "成功刪除 25 個檔案\n",
      "刪除失敗 0 個檔案\n"
     ]
    }
   ],
   "source": [
    "print(f\"成功刪除 {success_count} 個檔案\")\n",
    "print(f\"刪除失敗 {failure_count} 個檔案\")"
   ]
  },
  {
   "cell_type": "code",
   "execution_count": null,
   "metadata": {},
   "outputs": [],
   "source": []
  }
 ],
 "metadata": {
  "kernelspec": {
   "display_name": ".venv",
   "language": "python",
   "name": "python3"
  },
  "language_info": {
   "codemirror_mode": {
    "name": "ipython",
    "version": 3
   },
   "file_extension": ".py",
   "mimetype": "text/x-python",
   "name": "python",
   "nbconvert_exporter": "python",
   "pygments_lexer": "ipython3",
   "version": "3.9.13"
  },
  "orig_nbformat": 4
 },
 "nbformat": 4,
 "nbformat_minor": 2
}
